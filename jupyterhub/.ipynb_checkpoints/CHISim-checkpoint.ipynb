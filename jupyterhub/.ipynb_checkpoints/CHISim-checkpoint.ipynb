{
 "cells": [
  {
   "cell_type": "markdown",
   "id": "excessive-procurement",
   "metadata": {},
   "source": [
    "# CHISim Jupyter Notebook Entrance\n",
    "\n",
    "This is the Jupyter Notebook Entrance for running experiments with CHISim."
   ]
  },
  {
   "cell_type": "markdown",
   "id": "configured-slide",
   "metadata": {},
   "source": [
    "## Step 1. Testbed Configuration"
   ]
  },
  {
   "cell_type": "code",
   "execution_count": 1,
   "id": "moved-undergraduate",
   "metadata": {},
   "outputs": [
    {
     "name": "stdout",
     "output_type": "stream",
     "text": [
      "Now using CHI@TACC:\n",
      "URL: https://chi.tacc.chameleoncloud.org\n",
      "Location: Austin, Texas, USA\n",
      "Support contact: help@chameleoncloud.org\n"
     ]
    }
   ],
   "source": [
    "use_site \"CHI@TACC\"\n",
    "export OS_PROJECT_NAME=\"CHI-210853\"\n",
    "\n",
    "NODE_TYPE=compute_haswell\n",
    "IMAGE=CC-Ubuntu20.04\n",
    "EMAIL=\"$(openstack user show $USER -f value -c email)\"\n",
    "\n",
    "# A unique name for most provisioned resources to avoid collisions\n",
    "RESOURCE_NAME=\"${USER}-jupyterhub-$(date +%b%d)\"\n",
    "\n",
    "[[ -n \"$EMAIL\" ]] || {\n",
    "  echo >&2 \"Could not look up your user, check your OS_PROJECT_NAME\"\n",
    "}"
   ]
  },
  {
   "cell_type": "markdown",
   "id": "synthetic-laundry",
   "metadata": {},
   "source": [
    "## Step 2. Create a Lease"
   ]
  },
  {
   "cell_type": "code",
   "execution_count": 2,
   "id": "wicked-juvenile",
   "metadata": {},
   "outputs": [
    {
     "name": "stdout",
     "output_type": "stream",
     "text": [
      "Matches: ('min=1,max=1', 'resource_properties', '[\"=\", \"$node_type\", \"compute_haswell\"]')\n",
      "Matches: ('min=1', 'max', '1')\n",
      "Matches: (None, 'min', '1')\n",
      "Matches: ('resource_type=network,network_name=kangz1-jupyterhub-Aug12', 'resource_properties', '[\"==\",\"$physical_network\",\"physnet1\"]')\n",
      "Matches: ('resource_type=network', 'network_name', 'kangz1-jupyterhub-Aug12')\n",
      "Matches: (None, 'resource_type', 'network')\n",
      "Matches: ('resource_type=virtual:floatingip,network_id=6189521e-06a0-4c43-b163-16cc11ce675b', 'amount', '1')\n",
      "Matches: ('resource_type=virtual:floatingip', 'network_id', '6189521e-06a0-4c43-b163-16cc11ce675b')\n",
      "Matches: (None, 'resource_type', 'virtual:floatingip')\n",
      "Created a new lease:\n",
      "+--------------+----------------------------------------------------------------------------+\n",
      "| Field        | Value                                                                      |\n",
      "+--------------+----------------------------------------------------------------------------+\n",
      "| created_at   | 2021-08-12 20:49:46                                                        |\n",
      "| degraded     | False                                                                      |\n",
      "| end_date     | 2021-08-14T20:49:00.000000                                                 |\n",
      "| events       | {                                                                          |\n",
      "|              |     \"created_at\": \"2021-08-12 20:49:55\",                                   |\n",
      "|              |     \"updated_at\": null,                                                    |\n",
      "|              |     \"id\": \"3255f7c7-b3de-4e26-a3c3-7ea7c005d006\",                          |\n",
      "|              |     \"lease_id\": \"35839e76-54ac-4709-b16d-2bbda0b7cc17\",                    |\n",
      "|              |     \"event_type\": \"end_lease\",                                             |\n",
      "|              |     \"time\": \"2021-08-14T20:49:00.000000\",                                  |\n",
      "|              |     \"status\": \"UNDONE\"                                                     |\n",
      "|              | }                                                                          |\n",
      "|              | {                                                                          |\n",
      "|              |     \"created_at\": \"2021-08-12 20:49:55\",                                   |\n",
      "|              |     \"updated_at\": null,                                                    |\n",
      "|              |     \"id\": \"3263616f-f1ac-4da2-954c-aa37982f3070\",                          |\n",
      "|              |     \"lease_id\": \"35839e76-54ac-4709-b16d-2bbda0b7cc17\",                    |\n",
      "|              |     \"event_type\": \"before_end_lease\",                                      |\n",
      "|              |     \"time\": \"2021-08-12T20:49:00.000000\",                                  |\n",
      "|              |     \"status\": \"UNDONE\"                                                     |\n",
      "|              | }                                                                          |\n",
      "|              | {                                                                          |\n",
      "|              |     \"created_at\": \"2021-08-12 20:49:55\",                                   |\n",
      "|              |     \"updated_at\": null,                                                    |\n",
      "|              |     \"id\": \"a3bd200e-668b-4986-8649-b24c2629898c\",                          |\n",
      "|              |     \"lease_id\": \"35839e76-54ac-4709-b16d-2bbda0b7cc17\",                    |\n",
      "|              |     \"event_type\": \"start_lease\",                                           |\n",
      "|              |     \"time\": \"2021-08-12T20:49:00.000000\",                                  |\n",
      "|              |     \"status\": \"UNDONE\"                                                     |\n",
      "|              | }                                                                          |\n",
      "| id           | 35839e76-54ac-4709-b16d-2bbda0b7cc17                                       |\n",
      "| name         | kangz1-jupyterhub-Aug12                                                    |\n",
      "| project_id   | 91441e4c18f9458dbd7a2fffe578a615                                           |\n",
      "| reservations | {                                                                          |\n",
      "|              |     \"created_at\": \"2021-08-12 20:49:53\",                                   |\n",
      "|              |     \"updated_at\": \"2021-08-12 20:49:54\",                                   |\n",
      "|              |     \"id\": \"8ac57869-34d3-417b-bd4a-513a9153052d\",                          |\n",
      "|              |     \"lease_id\": \"35839e76-54ac-4709-b16d-2bbda0b7cc17\",                    |\n",
      "|              |     \"resource_id\": \"25ddf856-cda2-4d8e-a9be-93106baa3f2e\",                 |\n",
      "|              |     \"resource_type\": \"network\",                                            |\n",
      "|              |     \"status\": \"pending\",                                                   |\n",
      "|              |     \"missing_resources\": false,                                            |\n",
      "|              |     \"resources_changed\": false                                             |\n",
      "|              | }                                                                          |\n",
      "|              | {                                                                          |\n",
      "|              |     \"created_at\": \"2021-08-12 20:49:54\",                                   |\n",
      "|              |     \"updated_at\": \"2021-08-12 20:49:55\",                                   |\n",
      "|              |     \"id\": \"d25c1f22-d0dd-44cc-bc38-566e0d64ee4e\",                          |\n",
      "|              |     \"lease_id\": \"35839e76-54ac-4709-b16d-2bbda0b7cc17\",                    |\n",
      "|              |     \"resource_id\": \"6d69d1c3-25fc-43d1-85d8-faba7771efe9\",                 |\n",
      "|              |     \"resource_type\": \"virtual:floatingip\",                                 |\n",
      "|              |     \"status\": \"pending\",                                                   |\n",
      "|              |     \"missing_resources\": false,                                            |\n",
      "|              |     \"resources_changed\": false,                                            |\n",
      "|              |     \"network_id\": \"6189521e-06a0-4c43-b163-16cc11ce675b\",                  |\n",
      "|              |     \"amount\": 1,                                                           |\n",
      "|              |     \"required_floatingips\": []                                             |\n",
      "|              | }                                                                          |\n",
      "|              | {                                                                          |\n",
      "|              |     \"created_at\": \"2021-08-12 20:49:46\",                                   |\n",
      "|              |     \"updated_at\": \"2021-08-12 20:49:53\",                                   |\n",
      "|              |     \"id\": \"eb400af3-fe86-41ab-a050-0c07f3bf511f\",                          |\n",
      "|              |     \"lease_id\": \"35839e76-54ac-4709-b16d-2bbda0b7cc17\",                    |\n",
      "|              |     \"resource_id\": \"248ebba2-f5c0-48df-8186-ff3b7bf1ef76\",                 |\n",
      "|              |     \"resource_type\": \"physical:host\",                                      |\n",
      "|              |     \"status\": \"pending\",                                                   |\n",
      "|              |     \"missing_resources\": false,                                            |\n",
      "|              |     \"resources_changed\": false,                                            |\n",
      "|              |     \"hypervisor_properties\": \"\",                                           |\n",
      "|              |     \"resource_properties\": \"[\\\"=\\\", \\\"$node_type\\\", \\\"compute_haswell\\\"]\", |\n",
      "|              |     \"before_end\": \"default\",                                               |\n",
      "|              |     \"on_start\": \"default\",                                                 |\n",
      "|              |     \"min\": 1,                                                              |\n",
      "|              |     \"max\": 1                                                               |\n",
      "|              | }                                                                          |\n",
      "| start_date   | 2021-08-12T20:49:00.000000                                                 |\n",
      "| status       | PENDING                                                                    |\n",
      "| trust_id     | cb99d1a0e25c48efb45c1090fbfd4ad9                                           |\n",
      "| updated_at   | 2021-08-12 20:49:56                                                        |\n",
      "| user_id      | 249d942c9e24c3495c7c06b09825a998f231b0fab06d22d7babe230f1df0cce6           |\n",
      "+--------------+----------------------------------------------------------------------------+\n",
      "There are more than one appropriate resources for the name 'kangz1-jupyterhub-Aug12' and type 'lease'\n",
      "There are more than one appropriate resources for the name 'kangz1-jupyterhub-Aug12' and type 'lease'\n",
      "There are more than one appropriate resources for the name 'kangz1-jupyterhub-Aug12' and type 'lease'\n",
      "There are more than one appropriate resources for the name 'kangz1-jupyterhub-Aug12' and type 'lease'\n",
      "There are more than one appropriate resources for the name 'kangz1-jupyterhub-Aug12' and type 'lease'\n",
      "There are more than one appropriate resources for the name 'kangz1-jupyterhub-Aug12' and type 'lease'\n",
      "There are more than one appropriate resources for the name 'kangz1-jupyterhub-Aug12' and type 'lease'\n",
      "There are more than one appropriate resources for the name 'kangz1-jupyterhub-Aug12' and type 'lease'\n",
      "There are more than one appropriate resources for the name 'kangz1-jupyterhub-Aug12' and type 'lease'\n",
      "There are more than one appropriate resources for the name 'kangz1-jupyterhub-Aug12' and type 'lease'\n",
      "There are more than one appropriate resources for the name 'kangz1-jupyterhub-Aug12' and type 'lease'\n",
      "There are more than one appropriate resources for the name 'kangz1-jupyterhub-Aug12' and type 'lease'\n",
      "There are more than one appropriate resources for the name 'kangz1-jupyterhub-Aug12' and type 'lease'\n",
      "There are more than one appropriate resources for the name 'kangz1-jupyterhub-Aug12' and type 'lease'\n",
      "There are more than one appropriate resources for the name 'kangz1-jupyterhub-Aug12' and type 'lease'\n",
      "There are more than one appropriate resources for the name 'kangz1-jupyterhub-Aug12' and type 'lease'\n",
      "There are more than one appropriate resources for the name 'kangz1-jupyterhub-Aug12' and type 'lease'\n",
      "There are more than one appropriate resources for the name 'kangz1-jupyterhub-Aug12' and type 'lease'\n",
      "There are more than one appropriate resources for the name 'kangz1-jupyterhub-Aug12' and type 'lease'\n",
      "There are more than one appropriate resources for the name 'kangz1-jupyterhub-Aug12' and type 'lease'\n",
      "There are more than one appropriate resources for the name 'kangz1-jupyterhub-Aug12' and type 'lease'\n",
      "There are more than one appropriate resources for the name 'kangz1-jupyterhub-Aug12' and type 'lease'\n",
      "Lease started successfully!\n"
     ]
    }
   ],
   "source": [
    "lease_name=\"$RESOURCE_NAME\"\n",
    "network_name=\"$RESOURCE_NAME\"\n",
    "public_network_id=$(openstack network show public -f value -c id)\n",
    "\n",
    "blazar lease-create \\\n",
    "  --physical-reservation min=1,max=1,resource_properties=\"[\\\"=\\\", \\\"\\$node_type\\\", \\\"$NODE_TYPE\\\"]\" \\\n",
    "  --reservation resource_type=network,network_name=\"$network_name\",resource_properties='[\"==\",\"$physical_network\",\"physnet1\"]' \\\n",
    "  --reservation resource_type=virtual:floatingip,network_id=\"$public_network_id\",amount=1 \\\n",
    "  --start-date \"$(date +'%Y-%m-%d %H:%M')\" \\\n",
    "  --end-date \"$(date +'%Y-%m-%d %H:%M' -d'+2 day')\" \\\n",
    "  \"$lease_name\"\n",
    "\n",
    "# Wait for lease to start\n",
    "timeout 30000 bash -c 'until [[ $(blazar lease-show $0 -f value -c status) == \"ACTIVE\" ]]; do sleep 1; done' \"$lease_name\" \\\n",
    "    && echo \"Lease started successfully!\"\n",
    "\n",
    "#\n",
    "# Fetch information about which resources were reserved for later use\n",
    "#\n",
    "\n",
    "reservations=$(blazar lease-show \"$lease_name\" -f json \\\n",
    "  | jq -r '.reservations')\n",
    "host_reservation_id=$(jq -rs 'map(select(.resource_type==\"physical:host\"))[].id' <<<\"$reservations\")\n",
    "fip_reservation_id=$(jq -rs 'map(select(.resource_type==\"virtual:floatingip\"))[].id' <<<\"$reservations\")\n",
    "\n",
    "fip=$(openstack floating ip list --tags \"reservation:$fip_reservation_id\" -f json)\n",
    "fip_id=$(jq -r 'map(.ID)[0]' <<<\"$fip\")\n",
    "fip_addr=$(jq -r 'map(.[\"Floating IP Address\"])[0]' <<<\"$fip\")"
   ]
  },
  {
   "cell_type": "markdown",
   "id": "intermediate-miami",
   "metadata": {},
   "source": [
    "## Step 3. Create Baremetal"
   ]
  },
  {
   "cell_type": "code",
   "execution_count": 3,
   "id": "single-heater",
   "metadata": {},
   "outputs": [
    {
     "name": "stdout",
     "output_type": "stream",
     "text": [
      "+-------------+------------------------------------------------------------------+\n",
      "| Field       | Value                                                            |\n",
      "+-------------+------------------------------------------------------------------+\n",
      "| fingerprint | 6d:83:e8:e7:f9:8c:6f:1c:2c:17:2c:96:db:99:d0:5a                  |\n",
      "| name        | kangz1-jupyter                                                   |\n",
      "| user_id     | 249d942c9e24c3495c7c06b09825a998f231b0fab06d22d7babe230f1df0cce6 |\n",
      "+-------------+------------------------------------------------------------------+\n"
     ]
    }
   ],
   "source": [
    "# Ensure your Jupyter keypair is present\n",
    "key_pair_upload"
   ]
  },
  {
   "cell_type": "code",
   "execution_count": 4,
   "id": "beneficial-medication",
   "metadata": {},
   "outputs": [
    {
     "name": "stdout",
     "output_type": "stream",
     "text": [
      "2021-08-12 20:51:32Z [kangz1-jupyterhub-Aug12]: CREATE_IN_PROGRESS  Stack CREATE started\n",
      "2021-08-12 20:51:32Z [kangz1-jupyterhub-Aug12.router]: CREATE_IN_PROGRESS  state changed\n",
      "2021-08-12 20:51:33Z [kangz1-jupyterhub-Aug12.subnet]: CREATE_IN_PROGRESS  state changed\n",
      "2021-08-12 20:51:34Z [kangz1-jupyterhub-Aug12.subnet]: CREATE_COMPLETE  state changed\n",
      "2021-08-12 20:51:34Z [kangz1-jupyterhub-Aug12.jupyterhub_ip]: ADOPT_IN_PROGRESS  state changed\n",
      "2021-08-12 20:51:34Z [kangz1-jupyterhub-Aug12.jupyterhub_ip]: ADOPT_COMPLETE  state changed\n",
      "2021-08-12 20:51:34Z [kangz1-jupyterhub-Aug12.jupyterhub]: CREATE_IN_PROGRESS  state changed\n",
      "2021-08-12 20:51:34Z [kangz1-jupyterhub-Aug12.jupyterhub_ip]: CHECK_COMPLETE  CHECK not supported for OS::Neutron::FloatingIP\n",
      "2021-08-12 20:51:35Z [kangz1-jupyterhub-Aug12.router]: CREATE_COMPLETE  state changed\n",
      "2021-08-12 20:51:35Z [kangz1-jupyterhub-Aug12.router_int]: CREATE_IN_PROGRESS  state changed\n",
      "2021-08-12 20:51:39Z [kangz1-jupyterhub-Aug12.router_int]: CREATE_COMPLETE  state changed\n",
      "2021-08-12 20:59:42Z [kangz1-jupyterhub-Aug12.jupyterhub]: CREATE_COMPLETE  state changed\n",
      "2021-08-12 20:59:43Z [kangz1-jupyterhub-Aug12.jupyterhub_ip_assoc]: CREATE_IN_PROGRESS  state changed\n",
      "2021-08-12 20:59:45Z [kangz1-jupyterhub-Aug12.jupyterhub_ip_assoc]: CREATE_COMPLETE  state changed\n",
      "2021-08-12 20:59:45Z [kangz1-jupyterhub-Aug12]: CREATE_COMPLETE  Stack CREATE completed successfully\n",
      "+---------------------+-----------------------------------------------+\n",
      "| Field               | Value                                         |\n",
      "+---------------------+-----------------------------------------------+\n",
      "| id                  | 6a97962b-a14b-4cb8-980a-fd056d969179          |\n",
      "| stack_name          | kangz1-jupyterhub-Aug12                       |\n",
      "| description         | Configures JupyterHub server with external IP |\n",
      "| creation_time       | 2021-08-12T20:51:31Z                          |\n",
      "| updated_time        | None                                          |\n",
      "| stack_status        | CREATE_COMPLETE                               |\n",
      "| stack_status_reason | Stack CREATE completed successfully           |\n",
      "+---------------------+-----------------------------------------------+\n",
      "Waiting up to 300 seconds for SSH on 129.114.109.238...\n"
     ]
    },
    {
     "ename": "",
     "evalue": "124",
     "output_type": "error",
     "traceback": []
    }
   ],
   "source": [
    "stack_name=\"$RESOURCE_NAME\"\n",
    "export OS_KEYPAIR_NAME=\"kangz1-jupyter\"\n",
    "\n",
    "openstack stack create \"$stack_name\" --wait \\\n",
    "  --template chameleon/jupyterhub_heat_template.yml \\\n",
    "  --parameter floating_ip=\"$fip_id\" \\\n",
    "  --parameter reservation_id=\"$host_reservation_id\" \\\n",
    "  --parameter key_name=\"$OS_KEYPAIR_NAME\" \\\n",
    "  --parameter network_name=\"$network_name\" \\\n",
    "  --parameter image=\"$IMAGE\" && wait_ssh \"$fip_addr\""
   ]
  },
  {
   "cell_type": "markdown",
   "id": "cosmetic-jesus",
   "metadata": {},
   "source": [
    "## Step 4. Installing JupyterHub\n",
    "\n",
    "The underlying base image does not have JupyterHub OS_KEYPAIR_NAME installed. To install and configure it, this example uses [Ansible](https://www.ansible.com/). First, some configuration of Ansible is required:"
   ]
  },
  {
   "cell_type": "code",
   "execution_count": 11,
   "id": "tender-making",
   "metadata": {},
   "outputs": [
    {
     "name": "stdout",
     "output_type": "stream",
     "text": [
      "Starting galaxy role install process\n",
      "[WARNING]: - geerlingguy.docker (4.0.0) is already installed - use --force to\n",
      "change version to unspecified\n",
      "[WARNING]: - geerlingguy.pip (2.1.0) is already installed - use --force to\n",
      "change version to unspecified\n",
      "[jupyterhub]\n",
      "129.114.109.238 ansible_user=cc ansible_become=yes ansible_become_user=root\n"
     ]
    }
   ],
   "source": [
    "# Install Ansible dependencies\n",
    "ansible-galaxy install -r ansible/requirements.yml\n",
    "\n",
    "# Configure Ansible to run against provisioned nodes\n",
    "sudo mkdir -p /etc/ansible\n",
    "sudo tee /etc/ansible/hosts <<EOF\n",
    "[jupyterhub]\n",
    "$fip_addr ansible_user=cc ansible_become=yes ansible_become_user=root\n",
    "EOF"
   ]
  },
  {
   "cell_type": "code",
   "execution_count": 17,
   "id": "juvenile-lunch",
   "metadata": {},
   "outputs": [
    {
     "name": "stdout",
     "output_type": "stream",
     "text": [
      "\n",
      "PLAY [jupyterhub] **************************************************************\n",
      "\n",
      "TASK [Gathering Facts] *********************************************************\n",
      "[DEPRECATION WARNING]: Distribution ubuntu 20.04 on host 129.114.109.238 should\n",
      " use /usr/bin/python3, but is using /usr/bin/python for backward compatibility \n",
      "with prior Ansible releases. A future Ansible release will default to using the\n",
      " discovered platform python for this host. See https://docs.ansible.com/ansible\n",
      "/2.10/reference_appendices/interpreter_discovery.html for more information. \n",
      "This feature will be removed in version 2.12. Deprecation warnings can be \n",
      "disabled by setting deprecation_warnings=False in ansible.cfg.\n",
      "ok: [129.114.109.238]\n",
      "\n",
      "TASK [geerlingguy.pip : Ensure Pip is installed.] ******************************\n",
      "ok: [129.114.109.238]\n",
      "\n",
      "TASK [geerlingguy.pip : Ensure pip_install_packages are installed.] ************\n",
      "ok: [129.114.109.238] => (item=docker)\n",
      "ok: [129.114.109.238] => (item=docker-compose)\n",
      "\n",
      "TASK [geerlingguy.docker : include_tasks] **************************************\n",
      "skipping: [129.114.109.238]\n",
      "\n",
      "TASK [geerlingguy.docker : include_tasks] **************************************\n",
      "included: /home/kangz1/.ansible/roles/geerlingguy.docker/tasks/setup-Debian.yml for 129.114.109.238\n",
      "\n",
      "TASK [geerlingguy.docker : Ensure old versions of Docker are not installed.] ***\n",
      "ok: [129.114.109.238]\n",
      "\n",
      "TASK [geerlingguy.docker : Ensure dependencies are installed.] *****************\n",
      "ok: [129.114.109.238]\n",
      "\n",
      "TASK [geerlingguy.docker : Ensure additional dependencies are installed (on Ubuntu < 20.04 and any other systems).] ***\n",
      "skipping: [129.114.109.238]\n",
      "\n",
      "TASK [geerlingguy.docker : Ensure additional dependencies are installed (on Ubuntu >= 20.04).] ***\n",
      "ok: [129.114.109.238]\n",
      "\n",
      "TASK [geerlingguy.docker : Add Docker apt key.] ********************************\n",
      "ok: [129.114.109.238]\n",
      "\n",
      "TASK [geerlingguy.docker : Ensure curl is present (on older systems without SNI).] ***\n",
      "skipping: [129.114.109.238]\n",
      "\n",
      "TASK [geerlingguy.docker : Add Docker apt key (alternative for older systems without SNI).] ***\n",
      "skipping: [129.114.109.238]\n",
      "\n",
      "TASK [geerlingguy.docker : Add Docker repository.] *****************************\n",
      "ok: [129.114.109.238]\n",
      "\n",
      "TASK [geerlingguy.docker : Install Docker.] ************************************\n",
      "ok: [129.114.109.238]\n",
      "\n",
      "TASK [geerlingguy.docker : Ensure /etc/docker/ directory exists.] **************\n",
      "skipping: [129.114.109.238]\n",
      "\n",
      "TASK [geerlingguy.docker : Configure Docker daemon options.] *******************\n",
      "skipping: [129.114.109.238]\n",
      "\n",
      "TASK [geerlingguy.docker : Ensure Docker is started and enabled at boot.] ******\n",
      "ok: [129.114.109.238]\n",
      "\n",
      "TASK [geerlingguy.docker : include_tasks] **************************************\n",
      "included: /home/kangz1/.ansible/roles/geerlingguy.docker/tasks/docker-compose.yml for 129.114.109.238\n",
      "\n",
      "TASK [geerlingguy.docker : Check current docker-compose version.] **************\n",
      "ok: [129.114.109.238]\n",
      "\n",
      "TASK [geerlingguy.docker : Delete existing docker-compose version if it's different.] ***\n",
      "skipping: [129.114.109.238]\n",
      "\n",
      "TASK [geerlingguy.docker : Install Docker Compose (if configured).] ************\n",
      "skipping: [129.114.109.238]\n",
      "\n",
      "TASK [geerlingguy.docker : include_tasks] **************************************\n",
      "skipping: [129.114.109.238]\n",
      "\n",
      "TASK [Prepare jupyterhub folder] ***********************************************\n",
      "[WARNING]: Consider using the file module with state=directory rather than\n",
      "running 'mkdir'.  If you need to use command because file is insufficient you\n",
      "can add 'warn: false' to this command task or set 'command_warnings=False' in\n",
      "ansible.cfg to get rid of this message.\n",
      "changed: [129.114.109.238]\n",
      "\n",
      "TASK [shell] *******************************************************************\n",
      "changed: [129.114.109.238]\n",
      "\n",
      "TASK [lineinfile] **************************************************************\n",
      "ok: [129.114.109.238]\n",
      "\n",
      "TASK [Generate JupyterHub cookie secret] ***************************************\n",
      "changed: [129.114.109.238]\n",
      "\n",
      "TASK [Fetch vendor data from Chameleon.] ***************************************\n",
      "ok: [129.114.109.238]\n",
      "\n",
      "TASK [Authenticate with Docker registry.] **************************************\n",
      "ok: [129.114.109.238]\n",
      "\n",
      "TASK [Pull Docker images.] *****************************************************\n",
      "ok: [129.114.109.238] => (item=nginx:mainline)\n",
      "ok: [129.114.109.238] => (item=docker.chameleoncloud.org/jupyterhub-user:latest)\n",
      "\n",
      "TASK [Install certbot] *********************************************************\n",
      "ok: [129.114.109.238]\n",
      "\n",
      "TASK [Set fact for certificate domain.] ****************************************\n",
      "ok: [129.114.109.238]\n",
      "\n",
      "TASK [Set fact for domain storage paths.] **************************************\n",
      "ok: [129.114.109.238]\n",
      "\n",
      "TASK [Generate certificate.] ***************************************************\n",
      "ok: [129.114.109.238]\n",
      "\n",
      "TASK [command] *****************************************************************\n",
      "changed: [129.114.109.238]\n",
      "\n",
      "TASK [command] *****************************************************************\n",
      "changed: [129.114.109.238]\n",
      "\n",
      "TASK [Write FQDN to local file] ************************************************\n",
      "ok: [129.114.109.238]\n",
      "\n",
      "PLAY RECAP *********************************************************************\n",
      "129.114.109.238            : ok=27   changed=5    unreachable=0    failed=0    skipped=9    rescued=0    ignored=0   \n",
      "\n"
     ]
    }
   ],
   "source": [
    "export ANSIBLE_HOST_KEY_CHECKING=False\n",
    "ansible-playbook --extra floating_ip=\"$fip_addr\" --extra email_address=\"$EMAIL\" ansible/bootstrap.yml"
   ]
  },
  {
   "cell_type": "code",
   "execution_count": 18,
   "id": "flying-chinese",
   "metadata": {},
   "outputs": [
    {
     "name": "stdout",
     "output_type": "stream",
     "text": [
      "\n",
      "PLAY [jupyterhub] **************************************************************\n",
      "\n",
      "TASK [Gathering Facts] *********************************************************\n",
      "[DEPRECATION WARNING]: Distribution ubuntu 20.04 on host 129.114.109.238 should\n",
      " use /usr/bin/python3, but is using /usr/bin/python for backward compatibility \n",
      "with prior Ansible releases. A future Ansible release will default to using the\n",
      " discovered platform python for this host. See https://docs.ansible.com/ansible\n",
      "/2.10/reference_appendices/interpreter_discovery.html for more information. \n",
      "This feature will be removed in version 2.12. Deprecation warnings can be \n",
      "disabled by setting deprecation_warnings=False in ansible.cfg.\n",
      "ok: [129.114.109.238]\n",
      "\n",
      "TASK [Copy JupyterHub configuration.] ******************************************\n",
      "changed: [129.114.109.238]\n",
      "\n",
      "TASK [(read cryptography key)] *************************************************\n",
      "changed: [129.114.109.238]\n",
      "\n",
      "TASK [Check out NativeAuthenticator for JupyterHub.] ***************************\n",
      "changed: [129.114.109.238]\n",
      "\n",
      "TASK [Detect notebook images.] *************************************************\n",
      "ok: [129.114.109.238]\n",
      "\n",
      "TASK [Build Jupyter notebook image(s).] ****************************************\n",
      "changed: [129.114.109.238] => (item=default.Dockerfile)\n",
      "\n",
      "TASK [Start JupyterHub appliance.] *********************************************\n",
      "changed: [129.114.109.238]\n",
      "\n",
      "PLAY RECAP *********************************************************************\n",
      "129.114.109.238            : ok=7    changed=5    unreachable=0    failed=0    skipped=0    rescued=0    ignored=0   \n",
      "\n"
     ]
    }
   ],
   "source": [
    "ansible-playbook ansible/configure.yml"
   ]
  },
  {
   "cell_type": "markdown",
   "id": "unauthorized-potato",
   "metadata": {},
   "source": [
    "## Step 5. Install Depedencies for CHISim"
   ]
  },
  {
   "cell_type": "code",
   "execution_count": 20,
   "id": "protective-south",
   "metadata": {},
   "outputs": [
    {
     "name": "stdout",
     "output_type": "stream",
     "text": [
      "\n",
      "PLAY [jupyterhub] **************************************************************\n",
      "\n",
      "TASK [Gathering Facts] *********************************************************\n",
      "[DEPRECATION WARNING]: Distribution ubuntu 20.04 on host 129.114.109.238 should\n",
      " use /usr/bin/python3, but is using /usr/bin/python for backward compatibility \n",
      "with prior Ansible releases. A future Ansible release will default to using the\n",
      " discovered platform python for this host. See https://docs.ansible.com/ansible\n",
      "/2.10/reference_appendices/interpreter_discovery.html for more information. \n",
      "This feature will be removed in version 2.12. Deprecation warnings can be \n",
      "disabled by setting deprecation_warnings=False in ansible.cfg.\n",
      "ok: [129.114.109.238]\n",
      "\n",
      "TASK [clone CHISim repository] *************************************************\n",
      "changed: [129.114.109.238]\n",
      "\n",
      "TASK [install grafana] *********************************************************\n",
      "changed: [129.114.109.238]\n",
      "\n",
      "TASK [enable grafana port] *****************************************************\n",
      "changed: [129.114.109.238]\n",
      "\n",
      "TASK [install influxdb] ********************************************************\n",
      "changed: [129.114.109.238]\n",
      "\n",
      "TASK [install rabbitmq] ********************************************************\n",
      "changed: [129.114.109.238]\n",
      "\n",
      "TASK [install mongodb] *********************************************************\n",
      "changed: [129.114.109.238]\n",
      "\n",
      "TASK [add mongodb user] ********************************************************\n",
      "changed: [129.114.109.238]\n",
      "\n",
      "TASK [update mongodb config file] **********************************************\n",
      "changed: [129.114.109.238]\n",
      "\n",
      "TASK [restart mongodb] *********************************************************\n",
      "changed: [129.114.109.238]\n",
      "\n",
      "TASK [install CHISim python depedencies] ***************************************\n",
      "changed: [129.114.109.238]\n",
      "\n",
      "PLAY RECAP *********************************************************************\n",
      "129.114.109.238            : ok=11   changed=10   unreachable=0    failed=0    skipped=0    rescued=0    ignored=0   \n",
      "\n"
     ]
    }
   ],
   "source": [
    "ansible-playbook ansible/chisim-setup.yml"
   ]
  },
  {
   "cell_type": "markdown",
   "id": "increasing-semester",
   "metadata": {},
   "source": [
    "## Step 6. Configure Experiment"
   ]
  },
  {
   "cell_type": "markdown",
   "id": "unique-melissa",
   "metadata": {},
   "source": [
    "You can edit the [config](chisim-config.yaml) file to define runtime configuration."
   ]
  },
  {
   "cell_type": "markdown",
   "id": "immune-index",
   "metadata": {
    "tags": []
   },
   "source": [
    "## Step 7. Start Experiments"
   ]
  },
  {
   "cell_type": "code",
   "execution_count": 4,
   "id": "smoking-ukraine",
   "metadata": {},
   "outputs": [
    {
     "name": "stdout",
     "output_type": "stream",
     "text": [
      "\n",
      "PLAY [jupyterhub] **************************************************************\n",
      "\n",
      "TASK [Gathering Facts] *********************************************************\n",
      "[DEPRECATION WARNING]: Distribution ubuntu 20.04 on host 129.114.109.238 should\n",
      " use /usr/bin/python3, but is using /usr/bin/python for backward compatibility \n",
      "with prior Ansible releases. A future Ansible release will default to using the\n",
      " discovered platform python for this host. See https://docs.ansible.com/ansible\n",
      "/2.10/reference_appendices/interpreter_discovery.html for more information. \n",
      "This feature will be removed in version 2.12. Deprecation warnings can be \n",
      "disabled by setting deprecation_warnings=False in ansible.cfg.\n",
      "ok: [129.114.109.238]\n",
      "\n",
      "TASK [start experiment] ********************************************************\n",
      "changed: [129.114.109.238] => (item=python3 global_manager.py)\n",
      "changed: [129.114.109.238] => (item=sleep 20)\n",
      "changed: [129.114.109.238] => (item=python3 resource_manager.py)\n",
      "changed: [129.114.109.238] => (item=python3 frontend.py)\n",
      "changed: [129.114.109.238] => (item=python3 backfill.py)\n",
      "changed: [129.114.109.238] => (item=python3 workload.py)\n",
      "\n",
      "PLAY RECAP *********************************************************************\n",
      "129.114.109.238            : ok=2    changed=1    unreachable=0    failed=0    skipped=0    rescued=0    ignored=0   \n",
      "\n"
     ]
    }
   ],
   "source": [
    "ansible-playbook ansible/chisim-run.yml"
   ]
  },
  {
   "cell_type": "code",
   "execution_count": 7,
   "id": "employed-mobile",
   "metadata": {},
   "outputs": [
    {
     "name": "stdout",
     "output_type": "stream",
     "text": [
      "[6] 14509\n"
     ]
    },
    {
     "ename": "",
     "evalue": "1",
     "output_type": "error",
     "traceback": []
    }
   ],
   "source": [
    "nohup bash -c \"ssh -i ~/work/.ssh/id_rsa cc@129.114.109.238 \\\"cd /home/cc/CHISim/simulator/ && python3 global_manager.py\\\"\" > logs/global_manager.log &"
   ]
  },
  {
   "cell_type": "code",
   "execution_count": 8,
   "id": "heated-toner",
   "metadata": {},
   "outputs": [
    {
     "name": "stdout",
     "output_type": "stream",
     "text": [
      "[7] 14510\n"
     ]
    },
    {
     "ename": "",
     "evalue": "1",
     "output_type": "error",
     "traceback": []
    }
   ],
   "source": [
    "nohup bash -c \"ssh -i ~/work/.ssh/id_rsa cc@129.114.109.238 \\\"cd /home/cc/CHISim/simulator/ && python3 resource_manager.py\\\"\" > logs/resource_manager.log &"
   ]
  },
  {
   "cell_type": "code",
   "execution_count": 9,
   "id": "fourth-toilet",
   "metadata": {},
   "outputs": [
    {
     "name": "stdout",
     "output_type": "stream",
     "text": [
      "[8] 14511\n"
     ]
    },
    {
     "ename": "",
     "evalue": "1",
     "output_type": "error",
     "traceback": []
    }
   ],
   "source": [
    "nohup bash -c \"ssh -i ~/work/.ssh/id_rsa cc@129.114.109.238 \\\"cd /home/cc/CHISim/simulator/ && python3 frontend.py\\\"\" > logs/frontend.log &"
   ]
  },
  {
   "cell_type": "code",
   "execution_count": 10,
   "id": "future-manhattan",
   "metadata": {},
   "outputs": [
    {
     "name": "stdout",
     "output_type": "stream",
     "text": [
      "[9] 14512\n"
     ]
    },
    {
     "ename": "",
     "evalue": "1",
     "output_type": "error",
     "traceback": []
    }
   ],
   "source": [
    "nohup bash -c \"ssh -i ~/work/.ssh/id_rsa cc@129.114.109.238 \\\"cd /home/cc/CHISim/simulator/ && python3 backfill.py\\\"\" > logs/backfill.log &"
   ]
  },
  {
   "cell_type": "code",
   "execution_count": 11,
   "id": "serious-carnival",
   "metadata": {},
   "outputs": [
    {
     "name": "stdout",
     "output_type": "stream",
     "text": [
      "[10] 14513\n"
     ]
    },
    {
     "ename": "",
     "evalue": "1",
     "output_type": "error",
     "traceback": []
    }
   ],
   "source": [
    "nohup bash -c \"ssh -i ~/work/.ssh/id_rsa cc@129.114.109.238 \\\"cd /home/cc/CHISim/simulator/ && python3 workload.py\\\"\" > logs/workload.log &"
   ]
  },
  {
   "cell_type": "code",
   "execution_count": 12,
   "id": "sealed-concept",
   "metadata": {},
   "outputs": [
    {
     "name": "stdout",
     "output_type": "stream",
     "text": [
      "\n",
      "PLAY [jupyterhub] **************************************************************\n",
      "\n",
      "TASK [Gathering Facts] *********************************************************\n",
      "[DEPRECATION WARNING]: Distribution ubuntu 20.04 on host 129.114.109.238 should\n",
      " use /usr/bin/python3, but is using /usr/bin/python for backward compatibility \n",
      "with prior Ansible releases. A future Ansible release will default to using the\n",
      " discovered platform python for this host. See https://docs.ansible.com/ansible\n",
      "/2.10/reference_appendices/interpreter_discovery.html for more information. \n",
      "This feature will be removed in version 2.12. Deprecation warnings can be \n",
      "disabled by setting deprecation_warnings=False in ansible.cfg.\n",
      "ok: [129.114.109.238]\n",
      "\n",
      "TASK [Create Datasource] *******************************************************\n",
      "changed: [129.114.109.238]\n",
      "\n",
      "TASK [Import Grafana dashboard] ************************************************\n",
      "ok: [129.114.109.238]\n",
      "\n",
      "PLAY RECAP *********************************************************************\n",
      "129.114.109.238            : ok=3    changed=1    unreachable=0    failed=0    skipped=0    rescued=0    ignored=0   \n",
      "\n",
      "Grafana: http://:3000\n"
     ]
    }
   ],
   "source": [
    "# ansible-playbook --extra floating_ip=\"$fip_addr\" ansible/chisim-visual.yml\n",
    "ansible-playbook --extra floating_ip=\"129.114.109.238\" ansible/chisim-visual.yml\n",
    "echo \"Grafana: http://$fip_addr:3000\""
   ]
  },
  {
   "cell_type": "markdown",
   "id": "interior-discovery",
   "metadata": {},
   "source": [
    "## Step 8. Shutdown Experiments"
   ]
  },
  {
   "cell_type": "code",
   "execution_count": 12,
   "id": "funky-vegetarian",
   "metadata": {},
   "outputs": [
    {
     "name": "stdout",
     "output_type": "stream",
     "text": [
      "\n",
      "PLAY [jupyterhub] **************************************************************\n",
      "\n",
      "TASK [Gathering Facts] *********************************************************\n",
      "[DEPRECATION WARNING]: Distribution ubuntu 20.04 on host 129.114.109.238 should\n",
      " use /usr/bin/python3, but is using /usr/bin/python for backward compatibility \n",
      "with prior Ansible releases. A future Ansible release will default to using the\n",
      " discovered platform python for this host. See https://docs.ansible.com/ansible\n",
      "/2.10/reference_appendices/interpreter_discovery.html for more information. \n",
      "This feature will be removed in version 2.12. Deprecation warnings can be \n",
      "disabled by setting deprecation_warnings=False in ansible.cfg.\n",
      "ok: [129.114.109.238]\n",
      "\n",
      "TASK [shutdown experiments] ****************************************************\n",
      "fatal: [129.114.109.238]: FAILED! => {\"changed\": true, \"cmd\": \"pgrep python3 | xargs kill -9\", \"delta\": \"0:00:00.038148\", \"end\": \"2021-08-13 07:28:09.217393\", \"msg\": \"non-zero return code\", \"rc\": 123, \"start\": \"2021-08-13 07:28:09.179245\", \"stderr\": \"\\nUsage:\\n kill [options] <pid> [...]\\n\\nOptions:\\n <pid> [...]            send signal to every <pid> listed\\n -<signal>, -s, --signal <signal>\\n                        specify the <signal> to be sent\\n -l, --list=[<signal>]  list all signal names, or convert one to a name\\n -L, --table            list all signal names in a nice table\\n\\n -h, --help     display this help and exit\\n -V, --version  output version information and exit\\n\\nFor more details see kill(1).\", \"stderr_lines\": [\"\", \"Usage:\", \" kill [options] <pid> [...]\", \"\", \"Options:\", \" <pid> [...]            send signal to every <pid> listed\", \" -<signal>, -s, --signal <signal>\", \"                        specify the <signal> to be sent\", \" -l, --list=[<signal>]  list all signal names, or convert one to a name\", \" -L, --table            list all signal names in a nice table\", \"\", \" -h, --help     display this help and exit\", \" -V, --version  output version information and exit\", \"\", \"For more details see kill(1).\"], \"stdout\": \"\", \"stdout_lines\": []}\n",
      "\n",
      "PLAY RECAP *********************************************************************\n",
      "129.114.109.238            : ok=1    changed=0    unreachable=0    failed=1    skipped=0    rescued=0    ignored=0   \n",
      "\n",
      "[6]   Exit 255                nohup bash -c \"ssh -i ~/work/.ssh/id_rsa cc@129.114.109.238 \\\"cd /home/cc/CHISim/simulator/ && python3 global_manager.py\\\"\" > logs/global_manager.log\n",
      "[7]   Exit 255                nohup bash -c \"ssh -i ~/work/.ssh/id_rsa cc@129.114.109.238 \\\"cd /home/cc/CHISim/simulator/ && python3 resource_manager.py\\\"\" > logs/resource_manager.log\n",
      "[8]   Exit 255                nohup bash -c \"ssh -i ~/work/.ssh/id_rsa cc@129.114.109.238 \\\"cd /home/cc/CHISim/simulator/ && python3 frontend.py\\\"\" > logs/frontend.log\n",
      "[9]   Exit 255                nohup bash -c \"ssh -i ~/work/.ssh/id_rsa cc@129.114.109.238 \\\"cd /home/cc/CHISim/simulator/ && python3 backfill.py\\\"\" > logs/backfill.log\n",
      "[10]   Exit 255                nohup bash -c \"ssh -i ~/work/.ssh/id_rsa cc@129.114.109.238 \\\"cd /home/cc/CHISim/simulator/ && python3 workload.py\\\"\" > logs/workload.log\n"
     ]
    },
    {
     "ename": "",
     "evalue": "2",
     "output_type": "error",
     "traceback": []
    }
   ],
   "source": [
    "ansible-playbook ansible/chisim-shutdown.yml"
   ]
  }
 ],
 "metadata": {
  "interpreter": {
   "hash": "31f2aee4e71d21fbe5cf8b01ff0e069b9275f58929596ceb00d14d90e3e16cd6"
  },
  "kernelspec": {
   "display_name": "Bash",
   "language": "bash",
   "name": "bash"
  },
  "language_info": {
   "codemirror_mode": "shell",
   "file_extension": ".sh",
   "mimetype": "text/x-sh",
   "name": "bash"
  }
 },
 "nbformat": 4,
 "nbformat_minor": 5
}
