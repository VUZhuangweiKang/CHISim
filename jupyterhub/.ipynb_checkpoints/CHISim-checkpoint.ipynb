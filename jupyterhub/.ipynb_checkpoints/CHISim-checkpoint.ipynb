{
 "cells": [
  {
   "cell_type": "markdown",
   "id": "built-resort",
   "metadata": {},
   "source": [
    "# CHISim Jupyter Notebook Entrance\n",
    "\n",
    "This is the Jupyter Notebook Entrance for running experiments with CHISim."
   ]
  },
  {
   "cell_type": "markdown",
   "id": "continent-speaker",
   "metadata": {},
   "source": [
    "## Step 1.Testbed Configuration"
   ]
  },
  {
   "cell_type": "code",
   "execution_count": 12,
   "id": "killing-partition",
   "metadata": {},
   "outputs": [
    {
     "name": "stdout",
     "output_type": "stream",
     "text": [
      "Now using CHI@TACC:\n",
      "URL: https://chi.tacc.chameleoncloud.org\n",
      "Location: Austin, Texas, USA\n",
      "Support contact: help@chameleoncloud.org\n"
     ]
    }
   ],
   "source": [
    "use_site \"CHI@TACC\"\n",
    "export OS_PROJECT_NAME=\"CH-817567\"\n",
    "\n",
    "NODE_TYPE=compute_haswell\n",
    "IMAGE=CC-Ubuntu20.04\n",
    "EMAIL=\"$(openstack user show $USER -f value -c email)\"\n",
    "\n",
    "# A unique name for most provisioned resources to avoid collisions\n",
    "RESOURCE_NAME=\"${USER}-jupyterhub-$(date +%b%d)\"\n",
    "\n",
    "[[ -n \"$EMAIL\" ]] || {\n",
    "  echo >&2 \"Could not look up your user, check your OS_PROJECT_NAME\"\n",
    "}"
   ]
  },
  {
   "cell_type": "markdown",
   "id": "otherwise-biodiversity",
   "metadata": {},
   "source": [
    "## Step 2. Create a Lease"
   ]
  },
  {
   "cell_type": "code",
   "execution_count": 2,
   "id": "essential-forum",
   "metadata": {},
   "outputs": [
    {
     "name": "stdout",
     "output_type": "stream",
     "text": [
      "Matches: ('min=1,max=1', 'resource_properties', '[\"=\", \"$node_type\", \"compute_haswell\"]')\n",
      "Matches: ('min=1', 'max', '1')\n",
      "Matches: (None, 'min', '1')\n",
      "Matches: ('resource_type=network,network_name=kangz1-jupyterhub-Aug11', 'resource_properties', '[\"==\",\"$physical_network\",\"physnet1\"]')\n",
      "Matches: ('resource_type=network', 'network_name', 'kangz1-jupyterhub-Aug11')\n",
      "Matches: (None, 'resource_type', 'network')\n",
      "Matches: ('resource_type=virtual:floatingip,network_id=6189521e-06a0-4c43-b163-16cc11ce675b', 'amount', '1')\n",
      "Matches: ('resource_type=virtual:floatingip', 'network_id', '6189521e-06a0-4c43-b163-16cc11ce675b')\n",
      "Matches: (None, 'resource_type', 'virtual:floatingip')\n",
      "Created a new lease:\n",
      "+--------------+----------------------------------------------------------------------------+\n",
      "| Field        | Value                                                                      |\n",
      "+--------------+----------------------------------------------------------------------------+\n",
      "| created_at   | 2021-08-11 21:39:06                                                        |\n",
      "| degraded     | False                                                                      |\n",
      "| end_date     | 2021-08-12T21:38:00.000000                                                 |\n",
      "| events       | {                                                                          |\n",
      "|              |     \"created_at\": \"2021-08-11 21:39:14\",                                   |\n",
      "|              |     \"updated_at\": null,                                                    |\n",
      "|              |     \"id\": \"022b2979-86c3-44ff-a613-3cd8988661e1\",                          |\n",
      "|              |     \"lease_id\": \"fa19c23e-2775-4b99-8445-b50c62b72436\",                    |\n",
      "|              |     \"event_type\": \"end_lease\",                                             |\n",
      "|              |     \"time\": \"2021-08-12T21:38:00.000000\",                                  |\n",
      "|              |     \"status\": \"UNDONE\"                                                     |\n",
      "|              | }                                                                          |\n",
      "|              | {                                                                          |\n",
      "|              |     \"created_at\": \"2021-08-11 21:39:14\",                                   |\n",
      "|              |     \"updated_at\": null,                                                    |\n",
      "|              |     \"id\": \"93dfe686-3012-46a4-b5af-17780fe91384\",                          |\n",
      "|              |     \"lease_id\": \"fa19c23e-2775-4b99-8445-b50c62b72436\",                    |\n",
      "|              |     \"event_type\": \"before_end_lease\",                                      |\n",
      "|              |     \"time\": \"2021-08-11T21:38:00.000000\",                                  |\n",
      "|              |     \"status\": \"UNDONE\"                                                     |\n",
      "|              | }                                                                          |\n",
      "|              | {                                                                          |\n",
      "|              |     \"created_at\": \"2021-08-11 21:39:14\",                                   |\n",
      "|              |     \"updated_at\": null,                                                    |\n",
      "|              |     \"id\": \"9b45955b-fa5e-404b-aada-df944005b2a9\",                          |\n",
      "|              |     \"lease_id\": \"fa19c23e-2775-4b99-8445-b50c62b72436\",                    |\n",
      "|              |     \"event_type\": \"start_lease\",                                           |\n",
      "|              |     \"time\": \"2021-08-11T21:38:00.000000\",                                  |\n",
      "|              |     \"status\": \"UNDONE\"                                                     |\n",
      "|              | }                                                                          |\n",
      "| id           | fa19c23e-2775-4b99-8445-b50c62b72436                                       |\n",
      "| name         | kangz1-jupyterhub-Aug11                                                    |\n",
      "| project_id   | 5979fb0b8f604a3c9d05a456b09b3067                                           |\n",
      "| reservations | {                                                                          |\n",
      "|              |     \"created_at\": \"2021-08-11 21:39:06\",                                   |\n",
      "|              |     \"updated_at\": \"2021-08-11 21:39:12\",                                   |\n",
      "|              |     \"id\": \"01ba9356-c4af-4ef8-9137-fb391e765a68\",                          |\n",
      "|              |     \"lease_id\": \"fa19c23e-2775-4b99-8445-b50c62b72436\",                    |\n",
      "|              |     \"resource_id\": \"a40763e7-0352-4791-85f1-dbb76002087d\",                 |\n",
      "|              |     \"resource_type\": \"physical:host\",                                      |\n",
      "|              |     \"status\": \"pending\",                                                   |\n",
      "|              |     \"missing_resources\": false,                                            |\n",
      "|              |     \"resources_changed\": false,                                            |\n",
      "|              |     \"hypervisor_properties\": \"\",                                           |\n",
      "|              |     \"resource_properties\": \"[\\\"=\\\", \\\"$node_type\\\", \\\"compute_haswell\\\"]\", |\n",
      "|              |     \"before_end\": \"default\",                                               |\n",
      "|              |     \"on_start\": \"default\",                                                 |\n",
      "|              |     \"min\": 1,                                                              |\n",
      "|              |     \"max\": 1                                                               |\n",
      "|              | }                                                                          |\n",
      "|              | {                                                                          |\n",
      "|              |     \"created_at\": \"2021-08-11 21:39:13\",                                   |\n",
      "|              |     \"updated_at\": \"2021-08-11 21:39:14\",                                   |\n",
      "|              |     \"id\": \"10a71f86-0a33-4dd2-bf03-e63ce2e55e59\",                          |\n",
      "|              |     \"lease_id\": \"fa19c23e-2775-4b99-8445-b50c62b72436\",                    |\n",
      "|              |     \"resource_id\": \"676a46a4-eeb6-41a5-a8ec-af73d744b2d1\",                 |\n",
      "|              |     \"resource_type\": \"virtual:floatingip\",                                 |\n",
      "|              |     \"status\": \"pending\",                                                   |\n",
      "|              |     \"missing_resources\": false,                                            |\n",
      "|              |     \"resources_changed\": false,                                            |\n",
      "|              |     \"network_id\": \"6189521e-06a0-4c43-b163-16cc11ce675b\",                  |\n",
      "|              |     \"amount\": 1,                                                           |\n",
      "|              |     \"required_floatingips\": []                                             |\n",
      "|              | }                                                                          |\n",
      "|              | {                                                                          |\n",
      "|              |     \"created_at\": \"2021-08-11 21:39:12\",                                   |\n",
      "|              |     \"updated_at\": \"2021-08-11 21:39:13\",                                   |\n",
      "|              |     \"id\": \"eeb199ff-c521-4189-8b81-80ae7a404078\",                          |\n",
      "|              |     \"lease_id\": \"fa19c23e-2775-4b99-8445-b50c62b72436\",                    |\n",
      "|              |     \"resource_id\": \"c9e2ebaf-c606-4f3c-9ba2-0450b0f80520\",                 |\n",
      "|              |     \"resource_type\": \"network\",                                            |\n",
      "|              |     \"status\": \"pending\",                                                   |\n",
      "|              |     \"missing_resources\": false,                                            |\n",
      "|              |     \"resources_changed\": false                                             |\n",
      "|              | }                                                                          |\n",
      "| start_date   | 2021-08-11T21:38:00.000000                                                 |\n",
      "| status       | PENDING                                                                    |\n",
      "| trust_id     | 18ef53205c37455f899236fa195e6483                                           |\n",
      "| updated_at   | 2021-08-11 21:39:14                                                        |\n",
      "| user_id      | 249d942c9e24c3495c7c06b09825a998f231b0fab06d22d7babe230f1df0cce6           |\n",
      "+--------------+----------------------------------------------------------------------------+\n",
      "Lease started successfully!\n"
     ]
    }
   ],
   "source": [
    "lease_name=\"$RESOURCE_NAME\"\n",
    "network_name=\"$RESOURCE_NAME\"\n",
    "public_network_id=$(openstack network show public -f value -c id)\n",
    "\n",
    "blazar lease-create \\\n",
    "  --physical-reservation min=1,max=1,resource_properties=\"[\\\"=\\\", \\\"\\$node_type\\\", \\\"$NODE_TYPE\\\"]\" \\\n",
    "  --reservation resource_type=network,network_name=\"$network_name\",resource_properties='[\"==\",\"$physical_network\",\"physnet1\"]' \\\n",
    "  --reservation resource_type=virtual:floatingip,network_id=\"$public_network_id\",amount=1 \\\n",
    "  --start-date \"$(date +'%Y-%m-%d %H:%M')\" \\\n",
    "  --end-date \"$(date +'%Y-%m-%d %H:%M' -d'+1 day')\" \\\n",
    "  \"$lease_name\"\n",
    "\n",
    "# Wait for lease to start\n",
    "timeout 30000 bash -c 'until [[ $(blazar lease-show $0 -f value -c status) == \"ACTIVE\" ]]; do sleep 1; done' \"$lease_name\" \\\n",
    "    && echo \"Lease started successfully!\"\n",
    "\n",
    "#\n",
    "# Fetch information about which resources were reserved for later use\n",
    "#\n",
    "\n",
    "reservations=$(blazar lease-show \"$lease_name\" -f json \\\n",
    "  | jq -r '.reservations')\n",
    "host_reservation_id=$(jq -rs 'map(select(.resource_type==\"physical:host\"))[].id' <<<\"$reservations\")\n",
    "fip_reservation_id=$(jq -rs 'map(select(.resource_type==\"virtual:floatingip\"))[].id' <<<\"$reservations\")\n",
    "\n",
    "fip=$(openstack floating ip list --tags \"reservation:$fip_reservation_id\" -f json)\n",
    "fip_id=$(jq -r 'map(.ID)[0]' <<<\"$fip\")\n",
    "fip_addr=$(jq -r 'map(.[\"Floating IP Address\"])[0]' <<<\"$fip\")"
   ]
  },
  {
   "cell_type": "markdown",
   "id": "sustained-nickel",
   "metadata": {},
   "source": [
    "## Step 3. Create Baremetal"
   ]
  },
  {
   "cell_type": "code",
   "execution_count": 3,
   "id": "wired-percentage",
   "metadata": {},
   "outputs": [
    {
     "name": "stdout",
     "output_type": "stream",
     "text": [
      "+-------------+------------------------------------------------------------------+\n",
      "| Field       | Value                                                            |\n",
      "+-------------+------------------------------------------------------------------+\n",
      "| created_at  | 2021-08-11T20:44:30.000000                                       |\n",
      "| deleted     | False                                                            |\n",
      "| deleted_at  | None                                                             |\n",
      "| fingerprint | 6d:83:e8:e7:f9:8c:6f:1c:2c:17:2c:96:db:99:d0:5a                  |\n",
      "| id          | 9980                                                             |\n",
      "| name        | kangz1-jupyter                                                   |\n",
      "| updated_at  | None                                                             |\n",
      "| user_id     | 249d942c9e24c3495c7c06b09825a998f231b0fab06d22d7babe230f1df0cce6 |\n",
      "+-------------+------------------------------------------------------------------+\n"
     ]
    }
   ],
   "source": [
    "# Ensure your Jupyter keypair is present\n",
    "key_pair_upload"
   ]
  },
  {
   "cell_type": "code",
   "execution_count": 4,
   "id": "exotic-azerbaijan",
   "metadata": {},
   "outputs": [
    {
     "name": "stdout",
     "output_type": "stream",
     "text": [
      "2021-08-11 21:40:22Z [kangz1-jupyterhub-Aug11]: CREATE_IN_PROGRESS  Stack CREATE started\n",
      "2021-08-11 21:40:22Z [kangz1-jupyterhub-Aug11.router]: CREATE_IN_PROGRESS  state changed\n",
      "2021-08-11 21:40:23Z [kangz1-jupyterhub-Aug11.subnet]: CREATE_IN_PROGRESS  state changed\n",
      "2021-08-11 21:40:24Z [kangz1-jupyterhub-Aug11.jupyterhub_ip]: ADOPT_IN_PROGRESS  state changed\n",
      "2021-08-11 21:40:24Z [kangz1-jupyterhub-Aug11.jupyterhub_ip]: ADOPT_COMPLETE  state changed\n",
      "2021-08-11 21:40:24Z [kangz1-jupyterhub-Aug11.jupyterhub_ip]: CHECK_COMPLETE  CHECK not supported for OS::Neutron::FloatingIP\n",
      "2021-08-11 21:40:24Z [kangz1-jupyterhub-Aug11.subnet]: CREATE_COMPLETE  state changed\n",
      "2021-08-11 21:40:24Z [kangz1-jupyterhub-Aug11.jupyterhub]: CREATE_IN_PROGRESS  state changed\n",
      "2021-08-11 21:40:25Z [kangz1-jupyterhub-Aug11.router]: CREATE_COMPLETE  state changed\n",
      "2021-08-11 21:40:25Z [kangz1-jupyterhub-Aug11.router_int]: CREATE_IN_PROGRESS  state changed\n",
      "2021-08-11 21:40:28Z [kangz1-jupyterhub-Aug11.router_int]: CREATE_COMPLETE  state changed\n",
      "2021-08-11 21:48:27Z [kangz1-jupyterhub-Aug11.jupyterhub]: CREATE_COMPLETE  state changed\n",
      "2021-08-11 21:48:27Z [kangz1-jupyterhub-Aug11.jupyterhub_ip_assoc]: CREATE_IN_PROGRESS  state changed\n",
      "2021-08-11 21:48:29Z [kangz1-jupyterhub-Aug11.jupyterhub_ip_assoc]: CREATE_COMPLETE  state changed\n",
      "2021-08-11 21:48:29Z [kangz1-jupyterhub-Aug11]: CREATE_COMPLETE  Stack CREATE completed successfully\n",
      "+---------------------+-----------------------------------------------+\n",
      "| Field               | Value                                         |\n",
      "+---------------------+-----------------------------------------------+\n",
      "| id                  | 2a4f577b-1b09-44c3-99f2-5f29cb336677          |\n",
      "| stack_name          | kangz1-jupyterhub-Aug11                       |\n",
      "| description         | Configures JupyterHub server with external IP |\n",
      "| creation_time       | 2021-08-11T21:40:21Z                          |\n",
      "| updated_time        | None                                          |\n",
      "| stack_status        | CREATE_COMPLETE                               |\n",
      "| stack_status_reason | Stack CREATE completed successfully           |\n",
      "+---------------------+-----------------------------------------------+\n",
      "Waiting up to 300 seconds for SSH on 129.114.109.241...\n"
     ]
    },
    {
     "ename": "",
     "evalue": "124",
     "output_type": "error",
     "traceback": []
    }
   ],
   "source": [
    "stack_name=\"$RESOURCE_NAME\"\n",
    "export OS_KEYPAIR_NAME=\"kangz1-jupyter\"\n",
    "\n",
    "openstack stack create \"$stack_name\" --wait \\\n",
    "  --template chameleon/jupyterhub_heat_template.yml \\\n",
    "  --parameter floating_ip=\"$fip_id\" \\\n",
    "  --parameter reservation_id=\"$host_reservation_id\" \\\n",
    "  --parameter key_name=\"$OS_KEYPAIR_NAME\" \\\n",
    "  --parameter network_name=\"$network_name\" \\\n",
    "  --parameter image=\"$IMAGE\" && wait_ssh \"$fip_addr\""
   ]
  },
  {
   "cell_type": "markdown",
   "id": "detailed-grill",
   "metadata": {},
   "source": [
    "## Step 4. Installing JupyterHub\n",
    "\n",
    "The underlying base image does not have JupyterHub OS_KEYPAIR_NAME installed. To install and configure it, this example uses [Ansible](https://www.ansible.com/). First, some configuration of Ansible is required:"
   ]
  },
  {
   "cell_type": "code",
   "execution_count": 7,
   "id": "drawn-mixer",
   "metadata": {},
   "outputs": [
    {
     "name": "stdout",
     "output_type": "stream",
     "text": [
      "Starting galaxy role install process\n",
      "[WARNING]: - geerlingguy.docker (4.0.0) is already installed - use --force to\n",
      "change version to unspecified\n",
      "[WARNING]: - geerlingguy.pip (2.1.0) is already installed - use --force to\n",
      "change version to unspecified\n",
      "[jupyterhub]\n",
      " ansible_user=cc ansible_become=yes ansible_become_user=root\n"
     ]
    }
   ],
   "source": [
    "# Install Ansible dependencies\n",
    "ansible-galaxy install -r ansible/requirements.yml\n",
    "\n",
    "# Configure Ansible to run against provisioned nodes\n",
    "sudo mkdir -p /etc/ansible\n",
    "sudo tee /etc/ansible/hosts <<EOF\n",
    "[jupyterhub]\n",
    "$fip_addr ansible_user=cc ansible_become=yes ansible_become_user=root\n",
    "EOF"
   ]
  },
  {
   "cell_type": "code",
   "execution_count": 15,
   "id": "higher-pendant",
   "metadata": {},
   "outputs": [
    {
     "name": "stdout",
     "output_type": "stream",
     "text": [
      "\n",
      "PLAY [jupyterhub] **************************************************************\n",
      "\n",
      "TASK [Gathering Facts] *********************************************************\n",
      "[DEPRECATION WARNING]: Distribution ubuntu 20.04 on host 129.114.109.241 should\n",
      " use /usr/bin/python3, but is using /usr/bin/python for backward compatibility \n",
      "with prior Ansible releases. A future Ansible release will default to using the\n",
      " discovered platform python for this host. See https://docs.ansible.com/ansible\n",
      "/2.10/reference_appendices/interpreter_discovery.html for more information. \n",
      "This feature will be removed in version 2.12. Deprecation warnings can be \n",
      "disabled by setting deprecation_warnings=False in ansible.cfg.\n",
      "ok: [129.114.109.241]\n",
      "\n",
      "TASK [geerlingguy.pip : Ensure Pip is installed.] ******************************\n",
      "ok: [129.114.109.241]\n",
      "\n",
      "TASK [geerlingguy.pip : Ensure pip_install_packages are installed.] ************\n",
      "ok: [129.114.109.241] => (item=docker)\n",
      "ok: [129.114.109.241] => (item=docker-compose)\n",
      "\n",
      "TASK [geerlingguy.docker : include_tasks] **************************************\n",
      "skipping: [129.114.109.241]\n",
      "\n",
      "TASK [geerlingguy.docker : include_tasks] **************************************\n",
      "included: /home/kangz1/.ansible/roles/geerlingguy.docker/tasks/setup-Debian.yml for 129.114.109.241\n",
      "\n",
      "TASK [geerlingguy.docker : Ensure old versions of Docker are not installed.] ***\n",
      "ok: [129.114.109.241]\n",
      "\n",
      "TASK [geerlingguy.docker : Ensure dependencies are installed.] *****************\n",
      "ok: [129.114.109.241]\n",
      "\n",
      "TASK [geerlingguy.docker : Ensure additional dependencies are installed (on Ubuntu < 20.04 and any other systems).] ***\n",
      "skipping: [129.114.109.241]\n",
      "\n",
      "TASK [geerlingguy.docker : Ensure additional dependencies are installed (on Ubuntu >= 20.04).] ***\n",
      "ok: [129.114.109.241]\n",
      "\n",
      "TASK [geerlingguy.docker : Add Docker apt key.] ********************************\n",
      "ok: [129.114.109.241]\n",
      "\n",
      "TASK [geerlingguy.docker : Ensure curl is present (on older systems without SNI).] ***\n",
      "skipping: [129.114.109.241]\n",
      "\n",
      "TASK [geerlingguy.docker : Add Docker apt key (alternative for older systems without SNI).] ***\n",
      "skipping: [129.114.109.241]\n",
      "\n",
      "TASK [geerlingguy.docker : Add Docker repository.] *****************************\n",
      "ok: [129.114.109.241]\n",
      "\n",
      "TASK [geerlingguy.docker : Install Docker.] ************************************\n",
      "ok: [129.114.109.241]\n",
      "\n",
      "TASK [geerlingguy.docker : Ensure /etc/docker/ directory exists.] **************\n",
      "skipping: [129.114.109.241]\n",
      "\n",
      "TASK [geerlingguy.docker : Configure Docker daemon options.] *******************\n",
      "skipping: [129.114.109.241]\n",
      "\n",
      "TASK [geerlingguy.docker : Ensure Docker is started and enabled at boot.] ******\n",
      "ok: [129.114.109.241]\n",
      "\n",
      "TASK [geerlingguy.docker : include_tasks] **************************************\n",
      "included: /home/kangz1/.ansible/roles/geerlingguy.docker/tasks/docker-compose.yml for 129.114.109.241\n",
      "\n",
      "TASK [geerlingguy.docker : Check current docker-compose version.] **************\n",
      "ok: [129.114.109.241]\n",
      "\n",
      "TASK [geerlingguy.docker : Delete existing docker-compose version if it's different.] ***\n",
      "skipping: [129.114.109.241]\n",
      "\n",
      "TASK [geerlingguy.docker : Install Docker Compose (if configured).] ************\n",
      "skipping: [129.114.109.241]\n",
      "\n",
      "TASK [geerlingguy.docker : include_tasks] **************************************\n",
      "skipping: [129.114.109.241]\n",
      "\n",
      "TASK [shell] *******************************************************************\n",
      "ok: [129.114.109.241]\n",
      "\n",
      "TASK [lineinfile] **************************************************************\n",
      "ok: [129.114.109.241]\n",
      "\n",
      "TASK [Generate JupyterHub cookie secret] ***************************************\n",
      "ok: [129.114.109.241]\n",
      "\n",
      "TASK [Fetch vendor data from Chameleon.] ***************************************\n",
      "ok: [129.114.109.241]\n",
      "\n",
      "TASK [Authenticate with Docker registry.] **************************************\n",
      "ok: [129.114.109.241]\n",
      "\n",
      "TASK [Pull Docker images.] *****************************************************\n",
      "ok: [129.114.109.241] => (item=nginx:mainline)\n",
      "ok: [129.114.109.241] => (item=docker.chameleoncloud.org/jupyterhub-user:latest)\n",
      "\n",
      "TASK [Install certbot] *********************************************************\n",
      "ok: [129.114.109.241]\n",
      "\n",
      "TASK [Set fact for certificate domain.] ****************************************\n",
      "ok: [129.114.109.241]\n",
      "\n",
      "TASK [Set fact for domain storage paths.] **************************************\n",
      "ok: [129.114.109.241]\n",
      "\n",
      "TASK [Generate certificate.] ***************************************************\n",
      "ok: [129.114.109.241]\n",
      "\n",
      "TASK [command] *****************************************************************\n",
      "ok: [129.114.109.241]\n",
      "\n",
      "TASK [command] *****************************************************************\n",
      "ok: [129.114.109.241]\n",
      "\n",
      "TASK [Write FQDN to local file] ************************************************\n",
      "ok: [129.114.109.241]\n",
      "\n",
      "PLAY RECAP *********************************************************************\n",
      "129.114.109.241            : ok=26   changed=0    unreachable=0    failed=0    skipped=9    rescued=0    ignored=0   \n",
      "\n"
     ]
    }
   ],
   "source": [
    "# ansible-playbook --extra floating_ip=\"$fip_addr\" --extra email_address=\"$EMAIL\" ansible/bootstrap.yml\n",
    "ansible-playbook --extra floating_ip=\"129.114.109.241\" --extra email_address=\"zhuangwei.kang@vanderbilt.edu\" ansible/bootstrap.yml"
   ]
  },
  {
   "cell_type": "code",
   "execution_count": 18,
   "id": "magnetic-variation",
   "metadata": {},
   "outputs": [
    {
     "name": "stdout",
     "output_type": "stream",
     "text": [
      "kangz1\n"
     ]
    }
   ],
   "source": [
    "echo $NB_USER"
   ]
  },
  {
   "cell_type": "code",
   "execution_count": 20,
   "id": "suffering-consumer",
   "metadata": {},
   "outputs": [
    {
     "name": "stdout",
     "output_type": "stream",
     "text": [
      "\n",
      "PLAY [jupyterhub] **************************************************************\n",
      "\n",
      "TASK [Gathering Facts] *********************************************************\n",
      "[DEPRECATION WARNING]: Distribution ubuntu 20.04 on host 129.114.109.241 should\n",
      " use /usr/bin/python3, but is using /usr/bin/python for backward compatibility \n",
      "with prior Ansible releases. A future Ansible release will default to using the\n",
      " discovered platform python for this host. See https://docs.ansible.com/ansible\n",
      "/2.10/reference_appendices/interpreter_discovery.html for more information. \n",
      "This feature will be removed in version 2.12. Deprecation warnings can be \n",
      "disabled by setting deprecation_warnings=False in ansible.cfg.\n",
      "ok: [129.114.109.241]\n",
      "\n",
      "TASK [Copy JupyterHub configuration.] ******************************************\n",
      "changed: [129.114.109.241]\n",
      "\n",
      "TASK [(read cryptography key)] *************************************************\n",
      "changed: [129.114.109.241]\n",
      "\n",
      "TASK [Check out NativeAuthenticator for JupyterHub.] ***************************\n",
      "ok: [129.114.109.241]\n",
      "\n",
      "TASK [Detect notebook images.] *************************************************\n",
      "ok: [129.114.109.241]\n",
      "\n",
      "TASK [Build Jupyter notebook image(s).] ****************************************\n",
      "ok: [129.114.109.241] => (item=default.Dockerfile)\n",
      "\n",
      "TASK [Start JupyterHub appliance.] *********************************************\n",
      "changed: [129.114.109.241]\n",
      "\n",
      "PLAY RECAP *********************************************************************\n",
      "129.114.109.241            : ok=7    changed=3    unreachable=0    failed=0    skipped=0    rescued=0    ignored=0   \n",
      "\n"
     ]
    }
   ],
   "source": [
    "ansible-playbook ansible/configure.yml"
   ]
  }
 ],
 "metadata": {
  "kernelspec": {
   "display_name": "Bash",
   "language": "bash",
   "name": "bash"
  },
  "language_info": {
   "codemirror_mode": "shell",
   "file_extension": ".sh",
   "mimetype": "text/x-sh",
   "name": "bash"
  }
 },
 "nbformat": 4,
 "nbformat_minor": 5
}
