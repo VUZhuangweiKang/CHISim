{
 "metadata": {
  "language_info": {
   "codemirror_mode": {
    "name": "ipython",
    "version": 3
   },
   "file_extension": ".py",
   "mimetype": "text/x-python",
   "name": "python",
   "nbconvert_exporter": "python",
   "pygments_lexer": "ipython3",
   "version": "3.6.8"
  },
  "orig_nbformat": 4,
  "kernelspec": {
   "name": "python3",
   "display_name": "Python 3.6.8 64-bit"
  },
  "interpreter": {
   "hash": "31f2aee4e71d21fbe5cf8b01ff0e069b9275f58929596ceb00d14d90e3e16cd6"
  }
 },
 "nbformat": 4,
 "nbformat_minor": 2,
 "cells": [
  {
   "cell_type": "code",
   "execution_count": 1,
   "metadata": {},
   "outputs": [],
   "source": [
    "import pandas as pd\n",
    "import numpy as np\n",
    "import matplotlib.pyplot as plt\n",
    "import plotly.graph_objects as go\n",
    "import json\n",
    "import warnings\n",
    "warnings.filterwarnings(\"ignore\")"
   ]
  },
  {
   "cell_type": "code",
   "execution_count": 2,
   "metadata": {},
   "outputs": [],
   "source": [
    "node_type = ['compute_haswell']\n",
    "interval = 24\n",
    "work_dir = '../../datasets/machine_events'"
   ]
  },
  {
   "cell_type": "code",
   "execution_count": 3,
   "metadata": {},
   "outputs": [],
   "source": [
    "def load_data(path):\n",
    "    df = pd.read_csv(path)\n",
    "    df['EVENT_TIME'] = pd.to_datetime(df['EVENT_TIME'])\n",
    "    df.sort_values(by=['EVENT_TIME'], inplace=True)\n",
    "    return df\n",
    "\n",
    "def set_machine_type(df):\n",
    "    node_types = []\n",
    "    for index, row in df.iterrows():\n",
    "        try:\n",
    "            nt = row['PROPERTIES']\n",
    "            nt = nt.replace('\\'', '\\\"')\n",
    "            nt = nt.replace('None', '\\\"None\\\"')\n",
    "            if 'node_type' in nt:\n",
    "                nt = json.loads(nt)['node_type']\n",
    "            else:\n",
    "                nt = None\n",
    "        except:\n",
    "            nt = None\n",
    "        node_types.append(nt)\n",
    "    df['node_type'] = node_types\n",
    "    return df\n",
    "\n",
    "filter_node_type = lambda df: df[df['node_type'].isin(node_type)]\n",
    "find_time_range = lambda df: (df.iloc[0]['EVENT_TIME'], df.iloc[-1]['EVENT_TIME'])\n",
    "\n",
    "def rm_duplicates(df):\n",
    "    machines = df['HOST_NAME (PHYSICAL)'].unique()\n",
    "    mach_status = {}\n",
    "    select_rows = []\n",
    "    for index, row in df.iterrows():\n",
    "        if row['HOST_NAME (PHYSICAL)'] not in mach_status:\n",
    "            if row['EVENT'] in ['ENABLE', 'UPDATE']:\n",
    "                mach_status.update({row['HOST_NAME (PHYSICAL)']: row['EVENT']})\n",
    "                select_rows.append(index)\n",
    "        else:\n",
    "            if (mach_status[row['HOST_NAME (PHYSICAL)']] in ['ENABLE', 'UPDATE']) and (row['EVENT'] == 'DISABLE'):\n",
    "                mach_status[row['HOST_NAME (PHYSICAL)']] = 'DISABLE'\n",
    "                select_rows.append(index)\n",
    "            elif (mach_status[row['HOST_NAME (PHYSICAL)']] == 'DISABLE') and (row['EVENT'] in ['ENABLE', 'UPDATE']):\n",
    "                mach_status[row['HOST_NAME (PHYSICAL)']] = row['EVENT']\n",
    "                select_rows.append(index)\n",
    "    df = df.loc[select_rows]\n",
    "    return df"
   ]
  },
  {
   "cell_type": "code",
   "execution_count": 4,
   "metadata": {},
   "outputs": [],
   "source": [
    "ucme = load_data('%s/uc_machine_events.csv' % work_dir)\n",
    "taccme = load_data('%s/tacc_machine_events.csv' % work_dir)"
   ]
  },
  {
   "cell_type": "code",
   "execution_count": 5,
   "metadata": {},
   "outputs": [],
   "source": [
    "ucme = set_machine_type(ucme)\n",
    "taccme = set_machine_type(taccme)"
   ]
  },
  {
   "cell_type": "code",
   "execution_count": 6,
   "metadata": {},
   "outputs": [],
   "source": [
    "ucme = filter_node_type(ucme)\n",
    "taccme = filter_node_type(taccme)"
   ]
  },
  {
   "cell_type": "code",
   "execution_count": 7,
   "metadata": {},
   "outputs": [],
   "source": [
    "ucme_start_date, ucme_end_date = find_time_range(ucme)\n",
    "taccme_start_date, taccme_end_date = find_time_range(taccme)"
   ]
  },
  {
   "cell_type": "code",
   "execution_count": 8,
   "metadata": {},
   "outputs": [],
   "source": [
    "taccme['node_type'] = 'compute_haswell'\n",
    "ucme['node_type'] = 'compute_haswell'"
   ]
  },
  {
   "cell_type": "code",
   "execution_count": 9,
   "metadata": {},
   "outputs": [],
   "source": [
    "taccme = rm_duplicates(taccme)\n",
    "ucme = rm_duplicates(ucme)"
   ]
  },
  {
   "cell_type": "code",
   "execution_count": 10,
   "metadata": {},
   "outputs": [],
   "source": [
    "me = pd.concat([taccme, ucme], axis=0)\n",
    "me.sort_values(by=['EVENT_TIME'], inplace=True)\n",
    "me.to_csv('%s/compute_haswell.csv' % work_dir, index=None)"
   ]
  },
  {
   "cell_type": "code",
   "execution_count": 11,
   "metadata": {},
   "outputs": [
    {
     "output_type": "execute_result",
     "data": {
      "text/plain": [
       "             EVENT_TIME  EVENT_TIME_SEC              HOST_NAME (PHYSICAL)  \\\n",
       "226 2018-03-14 11:40:04      86528404.0  fa9dc77d7da1a9517f2a7fc1b5141824   \n",
       "229 2018-03-14 11:40:05      86528405.0  38f89d8426232fb9b11f73b96e401286   \n",
       "228 2018-03-14 11:40:05      86528405.0  3a9800c4b261fdc8595ed40da7568ccc   \n",
       "235 2018-03-14 11:40:05      86528405.0  eed618d03d23adb31c37870d8f291e79   \n",
       "234 2018-03-14 11:40:05      86528405.0  ef87ce346581cc2449c4c827bd3844b9   \n",
       "..                  ...             ...                               ...   \n",
       "847 2020-05-19 16:30:19     155406619.0  ea9320eaa87b83877f5652f5da92d9fe   \n",
       "840 2020-06-17 20:35:19     157926919.0  ea9320eaa87b83877f5652f5da92d9fe   \n",
       "838 2020-07-17 20:32:43     160518763.0  c639a6c51ba4ee0577ff8e8b45362207   \n",
       "220 2020-08-26 17:00:23     163962023.0  eed618d03d23adb31c37870d8f291e79   \n",
       "524 2020-09-01 17:42:42     164482962.0  174820954a0d3c09017e7b2cfa134c6b   \n",
       "\n",
       "       EVENT                                         PROPERTIES  \\\n",
       "226   UPDATE  {'architecture.smt_size': '48', 'node_type': '...   \n",
       "229   UPDATE  {'main_memory.ram_size': '134956859392', 'node...   \n",
       "228   UPDATE  {'node_type': 'compute_haswell', 'placement.ra...   \n",
       "235   UPDATE  {'storage_devices.0.size': '250059350016', 'pl...   \n",
       "234   UPDATE  {'placement.rack': 1, 'node_type': 'compute_ha...   \n",
       "..       ...                                                ...   \n",
       "847  DISABLE  {'architecture.platform_type': 'x86_64', 'arch...   \n",
       "840   ENABLE  {'architecture.platform_type': 'x86_64', 'arch...   \n",
       "838  DISABLE  {'node_type': 'compute_haswell', 'main_memory....   \n",
       "220   ENABLE  {'storage_devices.0.size': '250059350016', 'pl...   \n",
       "524  DISABLE  {'storage_devices.0.size': '250059350016', 'ma...   \n",
       "\n",
       "           node_type  \n",
       "226  compute_haswell  \n",
       "229  compute_haswell  \n",
       "228  compute_haswell  \n",
       "235  compute_haswell  \n",
       "234  compute_haswell  \n",
       "..               ...  \n",
       "847  compute_haswell  \n",
       "840  compute_haswell  \n",
       "838  compute_haswell  \n",
       "220  compute_haswell  \n",
       "524  compute_haswell  \n",
       "\n",
       "[425 rows x 6 columns]"
      ],
      "text/html": "<div>\n<style scoped>\n    .dataframe tbody tr th:only-of-type {\n        vertical-align: middle;\n    }\n\n    .dataframe tbody tr th {\n        vertical-align: top;\n    }\n\n    .dataframe thead th {\n        text-align: right;\n    }\n</style>\n<table border=\"1\" class=\"dataframe\">\n  <thead>\n    <tr style=\"text-align: right;\">\n      <th></th>\n      <th>EVENT_TIME</th>\n      <th>EVENT_TIME_SEC</th>\n      <th>HOST_NAME (PHYSICAL)</th>\n      <th>EVENT</th>\n      <th>PROPERTIES</th>\n      <th>node_type</th>\n    </tr>\n  </thead>\n  <tbody>\n    <tr>\n      <th>226</th>\n      <td>2018-03-14 11:40:04</td>\n      <td>86528404.0</td>\n      <td>fa9dc77d7da1a9517f2a7fc1b5141824</td>\n      <td>UPDATE</td>\n      <td>{'architecture.smt_size': '48', 'node_type': '...</td>\n      <td>compute_haswell</td>\n    </tr>\n    <tr>\n      <th>229</th>\n      <td>2018-03-14 11:40:05</td>\n      <td>86528405.0</td>\n      <td>38f89d8426232fb9b11f73b96e401286</td>\n      <td>UPDATE</td>\n      <td>{'main_memory.ram_size': '134956859392', 'node...</td>\n      <td>compute_haswell</td>\n    </tr>\n    <tr>\n      <th>228</th>\n      <td>2018-03-14 11:40:05</td>\n      <td>86528405.0</td>\n      <td>3a9800c4b261fdc8595ed40da7568ccc</td>\n      <td>UPDATE</td>\n      <td>{'node_type': 'compute_haswell', 'placement.ra...</td>\n      <td>compute_haswell</td>\n    </tr>\n    <tr>\n      <th>235</th>\n      <td>2018-03-14 11:40:05</td>\n      <td>86528405.0</td>\n      <td>eed618d03d23adb31c37870d8f291e79</td>\n      <td>UPDATE</td>\n      <td>{'storage_devices.0.size': '250059350016', 'pl...</td>\n      <td>compute_haswell</td>\n    </tr>\n    <tr>\n      <th>234</th>\n      <td>2018-03-14 11:40:05</td>\n      <td>86528405.0</td>\n      <td>ef87ce346581cc2449c4c827bd3844b9</td>\n      <td>UPDATE</td>\n      <td>{'placement.rack': 1, 'node_type': 'compute_ha...</td>\n      <td>compute_haswell</td>\n    </tr>\n    <tr>\n      <th>...</th>\n      <td>...</td>\n      <td>...</td>\n      <td>...</td>\n      <td>...</td>\n      <td>...</td>\n      <td>...</td>\n    </tr>\n    <tr>\n      <th>847</th>\n      <td>2020-05-19 16:30:19</td>\n      <td>155406619.0</td>\n      <td>ea9320eaa87b83877f5652f5da92d9fe</td>\n      <td>DISABLE</td>\n      <td>{'architecture.platform_type': 'x86_64', 'arch...</td>\n      <td>compute_haswell</td>\n    </tr>\n    <tr>\n      <th>840</th>\n      <td>2020-06-17 20:35:19</td>\n      <td>157926919.0</td>\n      <td>ea9320eaa87b83877f5652f5da92d9fe</td>\n      <td>ENABLE</td>\n      <td>{'architecture.platform_type': 'x86_64', 'arch...</td>\n      <td>compute_haswell</td>\n    </tr>\n    <tr>\n      <th>838</th>\n      <td>2020-07-17 20:32:43</td>\n      <td>160518763.0</td>\n      <td>c639a6c51ba4ee0577ff8e8b45362207</td>\n      <td>DISABLE</td>\n      <td>{'node_type': 'compute_haswell', 'main_memory....</td>\n      <td>compute_haswell</td>\n    </tr>\n    <tr>\n      <th>220</th>\n      <td>2020-08-26 17:00:23</td>\n      <td>163962023.0</td>\n      <td>eed618d03d23adb31c37870d8f291e79</td>\n      <td>ENABLE</td>\n      <td>{'storage_devices.0.size': '250059350016', 'pl...</td>\n      <td>compute_haswell</td>\n    </tr>\n    <tr>\n      <th>524</th>\n      <td>2020-09-01 17:42:42</td>\n      <td>164482962.0</td>\n      <td>174820954a0d3c09017e7b2cfa134c6b</td>\n      <td>DISABLE</td>\n      <td>{'storage_devices.0.size': '250059350016', 'ma...</td>\n      <td>compute_haswell</td>\n    </tr>\n  </tbody>\n</table>\n<p>425 rows × 6 columns</p>\n</div>"
     },
     "metadata": {},
     "execution_count": 11
    }
   ],
   "source": [
    "me"
   ]
  }
 ]
}