{
 "metadata": {
  "language_info": {
   "codemirror_mode": {
    "name": "ipython",
    "version": 3
   },
   "file_extension": ".py",
   "mimetype": "text/x-python",
   "name": "python",
   "nbconvert_exporter": "python",
   "pygments_lexer": "ipython3",
   "version": "3.6.14"
  },
  "orig_nbformat": 4,
  "kernelspec": {
   "name": "python3",
   "display_name": "Python 3.6.14 64-bit"
  },
  "interpreter": {
   "hash": "30295c5bec572e859485b1ffa5e89b8b3e2022ef6e3e739c1ac40f143a557caf"
  }
 },
 "nbformat": 4,
 "nbformat_minor": 2,
 "cells": [
  {
   "cell_type": "code",
   "execution_count": 4,
   "metadata": {},
   "outputs": [],
   "source": [
    "import pandas as pd"
   ]
  },
  {
   "cell_type": "code",
   "execution_count": 5,
   "metadata": {},
   "outputs": [],
   "source": [
    "df = pd.read_csv('../../datasets/osg_jobs/osg_jobs.csv')"
   ]
  },
  {
   "cell_type": "code",
   "execution_count": 6,
   "metadata": {},
   "outputs": [],
   "source": [
    "df = df.assign(action='start')\n",
    "df['trace_time'] = df['JobStartDate']\n",
    "df_temp = df.copy()\n",
    "\n",
    "df_temp = df_temp.assign(action='stop')\n",
    "df_temp['trace_time'] = df['CompletionDate']\n",
    "\n",
    "df = pd.concat([df, df_temp], axis=0)\n",
    "df.sort_values(['trace_time'], inplace=True)\n",
    "\n",
    "df.to_csv('../datasets/osg_jobs/osg_jobs.csv', index=None)"
   ]
  }
 ]
}