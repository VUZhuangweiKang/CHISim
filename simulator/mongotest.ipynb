{
 "metadata": {
  "language_info": {
   "codemirror_mode": {
    "name": "ipython",
    "version": 3
   },
   "file_extension": ".py",
   "mimetype": "text/x-python",
   "name": "python",
   "nbconvert_exporter": "python",
   "pygments_lexer": "ipython3",
   "version": "3.8.2"
  },
  "orig_nbformat": 4,
  "kernelspec": {
   "name": "python3",
   "display_name": "Python 3.8.2 64-bit"
  },
  "interpreter": {
   "hash": "31f2aee4e71d21fbe5cf8b01ff0e069b9275f58929596ceb00d14d90e3e16cd6"
  }
 },
 "nbformat": 4,
 "nbformat_minor": 2,
 "cells": [
  {
   "cell_type": "code",
   "execution_count": 1,
   "source": [
    "from utils import *\n",
    "import pymongo\n",
    "import pandas as pd\n",
    "import json"
   ],
   "outputs": [],
   "metadata": {}
  },
  {
   "cell_type": "code",
   "execution_count": 2,
   "source": [
    "config = load_config()\n",
    "mongo_client = pymongo.MongoClient(get_mongo_url(config))\n",
    "db = mongo_client['ChameleonSimulator']"
   ],
   "outputs": [],
   "metadata": {}
  },
  {
   "cell_type": "code",
   "execution_count": 3,
   "source": [
    "db.collection_names()"
   ],
   "outputs": [
    {
     "output_type": "stream",
     "name": "stderr",
     "text": [
      "/tmp/ipykernel_59551/1579878703.py:1: DeprecationWarning: collection_names is deprecated. Use list_collection_names instead.\n",
      "  db.collection_names()\n"
     ]
    },
    {
     "output_type": "execute_result",
     "data": {
      "text/plain": [
       "['osg_jobs', 'resource_pool']"
      ]
     },
     "metadata": {},
     "execution_count": 3
    }
   ],
   "metadata": {}
  },
  {
   "cell_type": "code",
   "execution_count": 4,
   "source": [
    "rsrc_pool = db['resource_pool']"
   ],
   "outputs": [],
   "metadata": {}
  },
  {
   "cell_type": "code",
   "execution_count": 16,
   "source": [
    "result = rsrc_pool.find({\"$and\":[\n",
    "                {\"HOST_NAME (PHYSICAL)\": \"fa9dc77d7da1a9517f2a7fc1b5141824\"}, \n",
    "                {\"pool\": \"osg\"},\n",
    "                {\"backfill\": {\"$elemMatch\": {\"GlobalJobId\": \"login05_osgconnect_net#11290350_6016#1624697819\"}}}]})\n",
    "\n",
    "result = pd.DataFrame(result)"
   ],
   "outputs": [],
   "metadata": {}
  },
  {
   "cell_type": "code",
   "execution_count": 17,
   "source": [
    "result"
   ],
   "outputs": [
    {
     "output_type": "execute_result",
     "data": {
      "text/plain": [
       "                        _id           EVENT_TIME  EVENT_TIME_SEC  \\\n",
       "0  60fcbdb8e6f483a94144096a  2018-03-14 11:40:04      86528404.0   \n",
       "\n",
       "               HOST_NAME (PHYSICAL)   EVENT  \\\n",
       "0  fa9dc77d7da1a9517f2a7fc1b5141824  UPDATE   \n",
       "\n",
       "                                          PROPERTIES        node_type status  \\\n",
       "0  {'architecture.smt_size': '48', 'node_type': '...  compute_haswell  inuse   \n",
       "\n",
       "  pool  cpus  inuse_cpus  memory  inuse_memory  \\\n",
       "0  osg     2           2  131072          6656   \n",
       "\n",
       "                                            backfill  ready_for_osg  \n",
       "0  [{'GlobalJobId': 'login05_osgconnect_net#11290...   1.627177e+09  "
      ],
      "text/html": [
       "<div>\n",
       "<style scoped>\n",
       "    .dataframe tbody tr th:only-of-type {\n",
       "        vertical-align: middle;\n",
       "    }\n",
       "\n",
       "    .dataframe tbody tr th {\n",
       "        vertical-align: top;\n",
       "    }\n",
       "\n",
       "    .dataframe thead th {\n",
       "        text-align: right;\n",
       "    }\n",
       "</style>\n",
       "<table border=\"1\" class=\"dataframe\">\n",
       "  <thead>\n",
       "    <tr style=\"text-align: right;\">\n",
       "      <th></th>\n",
       "      <th>_id</th>\n",
       "      <th>EVENT_TIME</th>\n",
       "      <th>EVENT_TIME_SEC</th>\n",
       "      <th>HOST_NAME (PHYSICAL)</th>\n",
       "      <th>EVENT</th>\n",
       "      <th>PROPERTIES</th>\n",
       "      <th>node_type</th>\n",
       "      <th>status</th>\n",
       "      <th>pool</th>\n",
       "      <th>cpus</th>\n",
       "      <th>inuse_cpus</th>\n",
       "      <th>memory</th>\n",
       "      <th>inuse_memory</th>\n",
       "      <th>backfill</th>\n",
       "      <th>ready_for_osg</th>\n",
       "    </tr>\n",
       "  </thead>\n",
       "  <tbody>\n",
       "    <tr>\n",
       "      <th>0</th>\n",
       "      <td>60fcbdb8e6f483a94144096a</td>\n",
       "      <td>2018-03-14 11:40:04</td>\n",
       "      <td>86528404.0</td>\n",
       "      <td>fa9dc77d7da1a9517f2a7fc1b5141824</td>\n",
       "      <td>UPDATE</td>\n",
       "      <td>{'architecture.smt_size': '48', 'node_type': '...</td>\n",
       "      <td>compute_haswell</td>\n",
       "      <td>inuse</td>\n",
       "      <td>osg</td>\n",
       "      <td>2</td>\n",
       "      <td>2</td>\n",
       "      <td>131072</td>\n",
       "      <td>6656</td>\n",
       "      <td>[{'GlobalJobId': 'login05_osgconnect_net#11290...</td>\n",
       "      <td>1.627177e+09</td>\n",
       "    </tr>\n",
       "  </tbody>\n",
       "</table>\n",
       "</div>"
      ]
     },
     "metadata": {},
     "execution_count": 17
    }
   ],
   "metadata": {}
  },
  {
   "cell_type": "code",
   "execution_count": null,
   "source": [
    "result = rsrc_pool.aggregate([\n",
    "    {\"$match\": {\"pool\": \"osg\"}},\n",
    "    {\"$project\": {\n",
    "        \"Machine\": \"$HOST_NAME (PHYSICAL)\",\n",
    "        \"free_cpus\": {\"$subtract\": [\"$cpus\", \"$inuse_cpus\"]}, \n",
    "        \"free_memory\": {\"$subtract\": [\"$memory\", \"$inuse_memory\"]}\n",
    "    }},\n",
    "    {\"$match\": { \n",
    "        \"$and\": [\n",
    "            {\"free_cpus\": {\"$gte\": 1}},\n",
    "            {\"free_memory\": {\"$gte\": 1}}\n",
    "        ]}\n",
    "    },\n",
    "    {\"$limit\": 1}\n",
    "])\n",
    "\n",
    "result = pd.DataFrame(list(result))\n",
    "print(result)\n",
    "result.apply(lambda row: str(row['_id']), axis=1)\n",
    "result = result.to_dict(orient='records')\n",
    "# json.dumps(result)\n",
    "# result['_id'] = [str(x) for x in result['_id'].to_list()]\n",
    "# result = result.to_dict(orient=\"records\")\n",
    "# (result)\n",
    "# result = rsrc_pool.update_one(\n",
    "#     {'_id': result[0]['_id']}, \n",
    "#     {\"$inc\": {\n",
    "#         \"inuse_cpus\": 8, \n",
    "#         \"inuse_memory\": 8\n",
    "#         },\n",
    "#         \"$pull\": {\"backfill\": {\"GlobalJobId\": \"abc\"}}\n",
    "#     }\n",
    "# )\n",
    "# print(result)"
   ],
   "outputs": [],
   "metadata": {}
  },
  {
   "cell_type": "code",
   "execution_count": null,
   "source": [
    "result = rsrc_pool.aggregate([\n",
    "    {\"$match\": {\"$and\": [ {\"node_type\": 'compute_haswell'}, {\"pool\": \"chameleon\"}, {\"status\": \"inuse\"} ] }},\n",
    "    {\"$limit\": 10}\n",
    "])\n",
    "result = list(result)\n",
    "print(result)"
   ],
   "outputs": [],
   "metadata": {}
  }
 ]
}