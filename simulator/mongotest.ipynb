{
 "metadata": {
  "language_info": {
   "codemirror_mode": {
    "name": "ipython",
    "version": 3
   },
   "file_extension": ".py",
   "mimetype": "text/x-python",
   "name": "python",
   "nbconvert_exporter": "python",
   "pygments_lexer": "ipython3",
   "version": "3.6.14"
  },
  "orig_nbformat": 4,
  "kernelspec": {
   "name": "python3",
   "display_name": "Python 3.6.14 64-bit"
  },
  "interpreter": {
   "hash": "30295c5bec572e859485b1ffa5e89b8b3e2022ef6e3e739c1ac40f143a557caf"
  }
 },
 "nbformat": 4,
 "nbformat_minor": 2,
 "cells": [
  {
   "cell_type": "code",
   "execution_count": 1,
   "metadata": {},
   "outputs": [],
   "source": [
    "from utils import *\n",
    "import pymongo\n",
    "import pandas as pd\n",
    "import json"
   ]
  },
  {
   "cell_type": "code",
   "execution_count": 2,
   "metadata": {},
   "outputs": [],
   "source": [
    "config = load_config()\n",
    "mongo_client = pymongo.MongoClient(get_mongo_url(config))\n",
    "db = mongo_client['ChameleonSimulator']"
   ]
  },
  {
   "cell_type": "code",
   "execution_count": 3,
   "metadata": {},
   "outputs": [
    {
     "output_type": "stream",
     "name": "stderr",
     "text": [
      "ipykernel_launcher:1: DeprecationWarning: collection_names is deprecated. Use list_collection_names instead.\n"
     ]
    },
    {
     "output_type": "execute_result",
     "data": {
      "text/plain": [
       "['resource_pool']"
      ]
     },
     "metadata": {},
     "execution_count": 3
    }
   ],
   "source": [
    "db.collection_names()"
   ]
  },
  {
   "cell_type": "code",
   "execution_count": 4,
   "metadata": {},
   "outputs": [],
   "source": [
    "rsrc_pool = db['resource_pool']"
   ]
  },
  {
   "cell_type": "code",
   "execution_count": 5,
   "metadata": {},
   "outputs": [
    {
     "output_type": "stream",
     "name": "stdout",
     "text": [
      "                        _id                           Machine  free_cpus  \\\n0  60f8c4109ae3d7ea22b931b5  fa9dc77d7da1a9517f2a7fc1b5141824          1   \n\n   free_memory  \n0       122880  \n"
     ]
    }
   ],
   "source": [
    "result = rsrc_pool.aggregate([\n",
    "    {\"$match\": {\"pool\": \"osg\"}},\n",
    "    {\"$project\": {\n",
    "        \"Machine\": \"$HOST_NAME (PHYSICAL)\",\n",
    "        \"free_cpus\": {\"$subtract\": [\"$cpus\", \"$inuse_cpus\"]}, \n",
    "        \"free_memory\": {\"$subtract\": [\"$memory\", \"$inuse_memory\"]}\n",
    "    }},\n",
    "    {\"$match\": { \n",
    "        \"$and\": [\n",
    "            {\"free_cpus\": {\"$gte\": 1}},\n",
    "            {\"free_memory\": {\"$gte\": 1}}\n",
    "        ]}\n",
    "    },\n",
    "    {\"$limit\": 1}\n",
    "])\n",
    "\n",
    "result = pd.DataFrame(list(result))\n",
    "print(result)\n",
    "result.apply(lambda row: str(row['_id']), axis=1)\n",
    "result = result.to_dict(orient='records')\n",
    "# json.dumps(result)\n",
    "# result['_id'] = [str(x) for x in result['_id'].to_list()]\n",
    "# result = result.to_dict(orient=\"records\")\n",
    "# (result)\n",
    "# result = rsrc_pool.update_one(\n",
    "#     {'_id': result[0]['_id']}, \n",
    "#     {\"$inc\": {\n",
    "#         \"inuse_cpus\": 8, \n",
    "#         \"inuse_memory\": 8\n",
    "#         },\n",
    "#         \"$pull\": {\"backfill\": {\"GlobalJobId\": \"abc\"}}\n",
    "#     }\n",
    "# )\n",
    "# print(result)"
   ]
  },
  {
   "cell_type": "code",
   "execution_count": 6,
   "metadata": {},
   "outputs": [
    {
     "output_type": "stream",
     "name": "stdout",
     "text": [
      "[{'_id': ObjectId('60f8c4109ae3d7ea22b931b6'), 'EVENT_TIME': '2018-03-14 11:40:05', 'EVENT_TIME_SEC': 86528405.0, 'HOST_NAME (PHYSICAL)': '3a9800c4b261fdc8595ed40da7568ccc', 'EVENT': 'UPDATE', 'PROPERTIES': \"{'node_type': 'compute_haswell', 'placement.rack': 1, 'main_memory.ram_size': '134956859392', 'architecture.smt_size': '48', 'storage_devices.0.size': '250059350016', 'architecture.smp_size': '2', 'architecture.platform_type': 'x86_64'}\", 'node_type': 'compute_haswell', 'status': 'inuse', 'pool': 'chameleon', 'cpus': 2, 'inuse_cpus': 0, 'memory': 131072, 'inuse_memory': 0, 'backfill': []}, {'_id': ObjectId('60f8c4109ae3d7ea22b931b7'), 'EVENT_TIME': '2018-03-14 11:40:05', 'EVENT_TIME_SEC': 86528405.0, 'HOST_NAME (PHYSICAL)': 'ef87ce346581cc2449c4c827bd3844b9', 'EVENT': 'UPDATE', 'PROPERTIES': \"{'placement.rack': 1, 'node_type': 'compute_haswell', 'main_memory.ram_size': '134956859392', 'architecture.smp_size': '2', 'storage_devices.0.size': '250059350016', 'architecture.smt_size': '48', 'architecture.platform_type': 'x86_64'}\", 'node_type': 'compute_haswell', 'status': 'inuse', 'pool': 'chameleon', 'cpus': 2, 'inuse_cpus': 0, 'memory': 131072, 'inuse_memory': 0, 'backfill': []}, {'_id': ObjectId('60f8c4109ae3d7ea22b931b8'), 'EVENT_TIME': '2018-03-14 11:40:05', 'EVENT_TIME_SEC': 86528405.0, 'HOST_NAME (PHYSICAL)': '8418f33a9b838bb7292b0e17c01adfb1', 'EVENT': 'UPDATE', 'PROPERTIES': \"{'node_type': 'compute_haswell', 'architecture.smp_size': '2', 'placement.rack': 1, 'architecture.platform_type': 'x86_64', 'storage_devices.0.size': '250059350016', 'architecture.smt_size': '48', 'main_memory.ram_size': '134956859392'}\", 'node_type': 'compute_haswell', 'status': 'inuse', 'pool': 'chameleon', 'cpus': 2, 'inuse_cpus': 0, 'memory': 131072, 'inuse_memory': 0, 'backfill': []}, {'_id': ObjectId('60f8c4109ae3d7ea22b931ba'), 'EVENT_TIME': '2018-03-14 11:40:07', 'EVENT_TIME_SEC': 86528407.0, 'HOST_NAME (PHYSICAL)': 'a64ca09fb7c53126cbb4dd579f972482', 'EVENT': 'UPDATE', 'PROPERTIES': \"{'node_type': 'compute_haswell', 'placement.rack': 0, 'main_memory.ram_size': '134956859392', 'architecture.platform_type': 'x86_64', 'storage_devices.0.size': '250059350016', 'architecture.smp_size': '2', 'architecture.smt_size': '48'}\", 'node_type': 'compute_haswell', 'status': 'inuse', 'pool': 'chameleon', 'cpus': 2, 'inuse_cpus': 0, 'memory': 131072, 'inuse_memory': 0, 'backfill': []}, {'_id': ObjectId('60f8c4109ae3d7ea22b931bb'), 'EVENT_TIME': '2018-03-14 11:40:08', 'EVENT_TIME_SEC': 86528408.0, 'HOST_NAME (PHYSICAL)': '9877ba81c06fe4ce59e306f089d09448', 'EVENT': 'UPDATE', 'PROPERTIES': \"{'placement.rack': 1, 'architecture.smp_size': '2', 'main_memory.ram_size': '134956859392', 'node_type': 'compute_haswell', 'architecture.platform_type': 'x86_64', 'storage_devices.0.size': '250059350016', 'architecture.smt_size': '48'}\", 'node_type': 'compute_haswell', 'status': 'inuse', 'pool': 'chameleon', 'cpus': 2, 'inuse_cpus': 0, 'memory': 131072, 'inuse_memory': 0, 'backfill': []}, {'_id': ObjectId('60f8c4109ae3d7ea22b931bc'), 'EVENT_TIME': '2018-03-14 11:40:09', 'EVENT_TIME_SEC': 86528409.0, 'HOST_NAME (PHYSICAL)': '87b458a5c11dee878137c907de62cdf8', 'EVENT': 'UPDATE', 'PROPERTIES': \"{'storage_devices.0.size': '250059350016', 'node_type': 'compute_haswell', 'architecture.platform_type': 'x86_64', 'placement.rack': 0, 'architecture.smp_size': '2', 'main_memory.ram_size': '134956859392', 'architecture.smt_size': '48'}\", 'node_type': 'compute_haswell', 'status': 'inuse', 'pool': 'chameleon', 'cpus': 2, 'inuse_cpus': 0, 'memory': 131072, 'inuse_memory': 0, 'backfill': []}, {'_id': ObjectId('60f8c4109ae3d7ea22b931bd'), 'EVENT_TIME': '2018-03-14 11:40:12', 'EVENT_TIME_SEC': 86528412.0, 'HOST_NAME (PHYSICAL)': 'b809f1a55f50d240ce372da1c5912288', 'EVENT': 'UPDATE', 'PROPERTIES': \"{'architecture.smt_size': '48', 'placement.rack': 1, 'storage_devices.0.size': '250059350016', 'architecture.smp_size': '2', 'main_memory.ram_size': '134956859392', 'node_type': 'compute_haswell', 'architecture.platform_type': 'x86_64'}\", 'node_type': 'compute_haswell', 'status': 'inuse', 'pool': 'chameleon', 'cpus': 2, 'inuse_cpus': 0, 'memory': 131072, 'inuse_memory': 0, 'backfill': []}, {'_id': ObjectId('60f8c4109ae3d7ea22b931be'), 'EVENT_TIME': '2018-03-14 11:40:14', 'EVENT_TIME_SEC': 86528414.0, 'HOST_NAME (PHYSICAL)': '46ae3db581d5ab42e9ed41fc641dc4d9', 'EVENT': 'UPDATE', 'PROPERTIES': \"{'main_memory.ram_size': '134956859392', 'architecture.smt_size': '48', 'architecture.platform_type': 'x86_64', 'storage_devices.0.size': '250059350016', 'architecture.smp_size': '2', 'node_type': 'compute_haswell', 'placement.rack': 1}\", 'node_type': 'compute_haswell', 'status': 'inuse', 'pool': 'chameleon', 'cpus': 2, 'inuse_cpus': 0, 'memory': 131072, 'inuse_memory': 0, 'backfill': []}, {'_id': ObjectId('60f8c4109ae3d7ea22b931bf'), 'EVENT_TIME': '2018-03-14 11:40:16', 'EVENT_TIME_SEC': 86528416.0, 'HOST_NAME (PHYSICAL)': 'f02bbf70b1d639de045a11830636576a', 'EVENT': 'UPDATE', 'PROPERTIES': \"{'node_type': 'compute_haswell', 'main_memory.ram_size': '134956859392', 'placement.rack': 1, 'storage_devices.0.size': '250059350016', 'architecture.smt_size': '48', 'architecture.smp_size': '2', 'architecture.platform_type': 'x86_64'}\", 'node_type': 'compute_haswell', 'status': 'inuse', 'pool': 'chameleon', 'cpus': 2, 'inuse_cpus': 0, 'memory': 131072, 'inuse_memory': 0, 'backfill': []}, {'_id': ObjectId('60f8c4109ae3d7ea22b931c0'), 'EVENT_TIME': '2018-03-14 11:40:18', 'EVENT_TIME_SEC': 86528418.0, 'HOST_NAME (PHYSICAL)': '18703b6949944cdf2db4bb0c33e955a7', 'EVENT': 'UPDATE', 'PROPERTIES': \"{'storage_devices.0.size': '250059350016', 'architecture.smp_size': '2', 'architecture.platform_type': 'x86_64', 'node_type': 'compute_haswell', 'architecture.smt_size': '48', 'placement.rack': 1, 'main_memory.ram_size': '134956859392'}\", 'node_type': 'compute_haswell', 'status': 'inuse', 'pool': 'chameleon', 'cpus': 2, 'inuse_cpus': 0, 'memory': 131072, 'inuse_memory': 0, 'backfill': []}]\n"
     ]
    }
   ],
   "source": [
    "result = rsrc_pool.aggregate([\n",
    "    {\"$match\": {\"$and\": [ {\"node_type\": 'compute_haswell'}, {\"pool\": \"chameleon\"}, {\"status\": \"inuse\"} ] }},\n",
    "    {\"$limit\": 10}\n",
    "])\n",
    "result = list(result)\n",
    "print(result)"
   ]
  }
 ]
}