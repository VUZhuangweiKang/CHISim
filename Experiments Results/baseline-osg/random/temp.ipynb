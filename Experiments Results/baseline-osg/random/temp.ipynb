{
 "cells": [
  {
   "cell_type": "code",
   "execution_count": 1,
   "source": [
    "import pandas as pd"
   ],
   "outputs": [],
   "metadata": {}
  },
  {
   "cell_type": "code",
   "execution_count": 2,
   "source": [
    "utl = pd.read_csv('utilization.csv')\n",
    "utl_rate = pd.read_csv('utilization_rate.csv')\n",
    "\n",
    "utl.shape"
   ],
   "outputs": [
    {
     "output_type": "execute_result",
     "data": {
      "text/plain": [
       "(3017, 4)"
      ]
     },
     "metadata": {},
     "execution_count": 2
    }
   ],
   "metadata": {}
  },
  {
   "cell_type": "code",
   "execution_count": 4,
   "source": [
    "utl_rate['Time'] = utl['Time']"
   ],
   "outputs": [],
   "metadata": {}
  },
  {
   "cell_type": "code",
   "execution_count": 5,
   "source": [
    "utl_rate.to_csv('utilization_rate.csv', index=None)"
   ],
   "outputs": [
    {
     "output_type": "execute_result",
     "data": {
      "text/plain": [
       "               Time  Total Util Rate  Chameleon Utl Rate  OSG Utl Rate\n",
       "0     1627795764173             0.00               0.000          0.00\n",
       "1     1627795765022             5.95               1.190          4.76\n",
       "2     1627795765269             5.95               1.190          4.76\n",
       "3     1627795765766             5.58               0.398          5.18\n",
       "4     1627795766086            13.50               0.730         12.80\n",
       "...             ...              ...                 ...           ...\n",
       "3012  1627796728005            99.30              17.900         81.40\n",
       "3013  1627796728282            99.60              18.200         81.40\n",
       "3014  1627796728493           100.00              18.600         81.40\n",
       "3015  1627796728690            99.60              18.200         81.40\n",
       "3016  1627796728902            99.60              18.200         81.40\n",
       "\n",
       "[3017 rows x 4 columns]"
      ],
      "text/html": [
       "<div>\n",
       "<style scoped>\n",
       "    .dataframe tbody tr th:only-of-type {\n",
       "        vertical-align: middle;\n",
       "    }\n",
       "\n",
       "    .dataframe tbody tr th {\n",
       "        vertical-align: top;\n",
       "    }\n",
       "\n",
       "    .dataframe thead th {\n",
       "        text-align: right;\n",
       "    }\n",
       "</style>\n",
       "<table border=\"1\" class=\"dataframe\">\n",
       "  <thead>\n",
       "    <tr style=\"text-align: right;\">\n",
       "      <th></th>\n",
       "      <th>Time</th>\n",
       "      <th>Total Util Rate</th>\n",
       "      <th>Chameleon Utl Rate</th>\n",
       "      <th>OSG Utl Rate</th>\n",
       "    </tr>\n",
       "  </thead>\n",
       "  <tbody>\n",
       "    <tr>\n",
       "      <th>0</th>\n",
       "      <td>1627795764173</td>\n",
       "      <td>0.00</td>\n",
       "      <td>0.000</td>\n",
       "      <td>0.00</td>\n",
       "    </tr>\n",
       "    <tr>\n",
       "      <th>1</th>\n",
       "      <td>1627795765022</td>\n",
       "      <td>5.95</td>\n",
       "      <td>1.190</td>\n",
       "      <td>4.76</td>\n",
       "    </tr>\n",
       "    <tr>\n",
       "      <th>2</th>\n",
       "      <td>1627795765269</td>\n",
       "      <td>5.95</td>\n",
       "      <td>1.190</td>\n",
       "      <td>4.76</td>\n",
       "    </tr>\n",
       "    <tr>\n",
       "      <th>3</th>\n",
       "      <td>1627795765766</td>\n",
       "      <td>5.58</td>\n",
       "      <td>0.398</td>\n",
       "      <td>5.18</td>\n",
       "    </tr>\n",
       "    <tr>\n",
       "      <th>4</th>\n",
       "      <td>1627795766086</td>\n",
       "      <td>13.50</td>\n",
       "      <td>0.730</td>\n",
       "      <td>12.80</td>\n",
       "    </tr>\n",
       "    <tr>\n",
       "      <th>...</th>\n",
       "      <td>...</td>\n",
       "      <td>...</td>\n",
       "      <td>...</td>\n",
       "      <td>...</td>\n",
       "    </tr>\n",
       "    <tr>\n",
       "      <th>3012</th>\n",
       "      <td>1627796728005</td>\n",
       "      <td>99.30</td>\n",
       "      <td>17.900</td>\n",
       "      <td>81.40</td>\n",
       "    </tr>\n",
       "    <tr>\n",
       "      <th>3013</th>\n",
       "      <td>1627796728282</td>\n",
       "      <td>99.60</td>\n",
       "      <td>18.200</td>\n",
       "      <td>81.40</td>\n",
       "    </tr>\n",
       "    <tr>\n",
       "      <th>3014</th>\n",
       "      <td>1627796728493</td>\n",
       "      <td>100.00</td>\n",
       "      <td>18.600</td>\n",
       "      <td>81.40</td>\n",
       "    </tr>\n",
       "    <tr>\n",
       "      <th>3015</th>\n",
       "      <td>1627796728690</td>\n",
       "      <td>99.60</td>\n",
       "      <td>18.200</td>\n",
       "      <td>81.40</td>\n",
       "    </tr>\n",
       "    <tr>\n",
       "      <th>3016</th>\n",
       "      <td>1627796728902</td>\n",
       "      <td>99.60</td>\n",
       "      <td>18.200</td>\n",
       "      <td>81.40</td>\n",
       "    </tr>\n",
       "  </tbody>\n",
       "</table>\n",
       "<p>3017 rows × 4 columns</p>\n",
       "</div>"
      ]
     },
     "metadata": {},
     "execution_count": 5
    }
   ],
   "metadata": {}
  }
 ],
 "metadata": {
  "orig_nbformat": 4,
  "language_info": {
   "name": "python",
   "version": "3.7.9",
   "mimetype": "text/x-python",
   "codemirror_mode": {
    "name": "ipython",
    "version": 3
   },
   "pygments_lexer": "ipython3",
   "nbconvert_exporter": "python",
   "file_extension": ".py"
  },
  "kernelspec": {
   "name": "python3",
   "display_name": "Python 3.7.9 64-bit"
  },
  "interpreter": {
   "hash": "aee8b7b246df8f9039afb4144a1f6fd8d2ca17a180786b69acc140d282b71a49"
  }
 },
 "nbformat": 4,
 "nbformat_minor": 2
}