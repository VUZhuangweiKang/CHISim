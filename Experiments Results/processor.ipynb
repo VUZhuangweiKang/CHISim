{
 "cells": [
  {
   "cell_type": "code",
   "execution_count": 835,
   "source": [
    "import pandas as pd\n",
    "import numpy as np\n",
    "import matplotlib.pyplot as plt\n",
    "from datetime import datetime\n",
    "plt.style.use('ggplot')"
   ],
   "outputs": [],
   "metadata": {}
  },
  {
   "cell_type": "code",
   "execution_count": 836,
   "source": [
    "LEASE = 3000\n",
    "get_timestamp = lambda time_str: datetime.strptime(time_str, '%Y-%m-%d %H:%M:%S').timestamp()"
   ],
   "outputs": [],
   "metadata": {}
  },
  {
   "cell_type": "code",
   "execution_count": 837,
   "source": [
    "def process_complete_leases(work_dir):\n",
    "    completed_lease = pd.read_csv('%s/complete_leases.csv' % work_dir)\n",
    "    start_time = completed_lease[completed_lease['completed']==0]['Time'].iloc[0]\n",
    "    end_time = completed_lease[completed_lease['completed']==LEASE]['Time'].iloc[0]\n",
    "    return start_time, end_time"
   ],
   "outputs": [],
   "metadata": {}
  },
  {
   "cell_type": "code",
   "execution_count": 838,
   "source": [
    "def process_osg_jobs(work_dir, end_time):\n",
    "    osg_jobs = pd.read_csv('%s/osg_jobs.csv' % work_dir)\n",
    "    osg_jobs = osg_jobs.dropna()\n",
    "    osg_jobs = osg_jobs[osg_jobs['action'] == 'stop']\n",
    "    osg_jobs = osg_jobs[osg_jobs['JobSimCompleteDate'] < get_timestamp(end_time)]\n",
    "    del osg_jobs['_id']\n",
    "    osg_jobs = osg_jobs[(osg_jobs['TotalCost'] > 0) & (osg_jobs['WastedCost'] >= 0)]\n",
    "    return osg_jobs"
   ],
   "outputs": [],
   "metadata": {}
  },
  {
   "cell_type": "code",
   "execution_count": 839,
   "source": [
    "def process_utilization_rate(work_dir, end_time):\n",
    "    ru = pd.read_csv('%s/utilization_rate.csv' % work_dir)\n",
    "    ru['Time'] = pd.to_datetime(ru['Time'])\n",
    "    ru = ru[ru['Time'] <= end_time]\n",
    "    ru = ru[ru['Chameleon Utl Rate'] != 0]\n",
    "    ru.set_index(['Time'], inplace=True)\n",
    "    return ru"
   ],
   "outputs": [],
   "metadata": {}
  },
  {
   "cell_type": "code",
   "execution_count": 840,
   "source": [
    "def process_node_terminations(work_dir, end_time):\n",
    "    node_term = pd.read_csv('%s/node_terminations.csv' % work_dir)\n",
    "    node_term['Time'] = pd.to_datetime(node_term['Time'])\n",
    "    node_term = node_term[node_term['Time'] <= end_time]\n",
    "    node_term.dropna(inplace=True)\n",
    "    node_term.set_index(['Time'], inplace=True)\n",
    "    return node_term"
   ],
   "outputs": [],
   "metadata": {}
  },
  {
   "cell_type": "code",
   "execution_count": 841,
   "source": [
    "def count_completed_jobs(osg_jobs):\n",
    "    return osg_jobs.shape[0]"
   ],
   "outputs": [],
   "metadata": {}
  },
  {
   "cell_type": "code",
   "execution_count": 842,
   "source": [
    "def get_wasted_cost(osg_jobs):\n",
    "    return osg_jobs['WastedCost'].sum()"
   ],
   "outputs": [],
   "metadata": {}
  },
  {
   "cell_type": "code",
   "execution_count": 843,
   "source": [
    "def get_total_utl_rate(utl_rate):\n",
    "    return utl_rate['Total Util Rate'].quantile(0.25)"
   ],
   "outputs": [],
   "metadata": {}
  },
  {
   "cell_type": "code",
   "execution_count": 844,
   "source": [
    "def get_in_advance_node_terms(node_term):\n",
    "    return node_term[\"success termination\"].max()"
   ],
   "outputs": [],
   "metadata": {}
  },
  {
   "cell_type": "code",
   "execution_count": 845,
   "source": [
    "def get_unused_node_terms(node_term):\n",
    "    return node_term[\"unused terminations\"].max()"
   ],
   "outputs": [],
   "metadata": {}
  },
  {
   "cell_type": "code",
   "execution_count": 846,
   "source": [
    "def get_immediate_node_terms(node_term):\n",
    "    return node_term[\"immediate termination\"].max()"
   ],
   "outputs": [],
   "metadata": {}
  },
  {
   "cell_type": "code",
   "execution_count": 847,
   "source": [
    "def show_metrics(osg_jobs, utl_rate, node_term):\n",
    "    print('total_complete_jobs: %d ' % count_completed_jobs(osg_jobs))\n",
    "    print('wasted_core_hours: %.2f' % get_wasted_cost(osg_jobs))\n",
    "    print('total_utilization_rate: %.2f' % get_total_utl_rate(utl_rate))\n",
    "    print('in_advance_node_terms: %d' % get_in_advance_node_terms(node_term))\n",
    "    print('unused_advance_node_terms: %d' % get_unused_node_terms(node_term))\n",
    "    print('immediate_node_terms: %d' % get_immediate_node_terms(node_term))"
   ],
   "outputs": [],
   "metadata": {}
  },
  {
   "cell_type": "markdown",
   "source": [
    "# Baseline"
   ],
   "metadata": {}
  },
  {
   "cell_type": "code",
   "execution_count": 848,
   "source": [
    "work_dir = 'baseline'\n",
    "start_time, end_time = process_complete_leases(work_dir)\n",
    "utl_rate = process_utilization_rate(work_dir, end_time)\n",
    "# print('total_utilization_rate: %.2f' % get_total_utl_rate(utl_rate))\n",
    "utl_rate['Total Util Rate'].describe()"
   ],
   "outputs": [
    {
     "output_type": "execute_result",
     "data": {
      "text/plain": [
       "23.230584551148223"
      ]
     },
     "metadata": {},
     "execution_count": 848
    }
   ],
   "metadata": {}
  },
  {
   "cell_type": "code",
   "execution_count": 849,
   "source": [
    "utl_rate['Total Util Rate'].plot()\n",
    "plt.xlabel('Simulation Time')\n",
    "plt.ylabel('Utilization Rate')\n",
    "plt.savefig('utl_rate_baseline.png', dpi=500)"
   ],
   "outputs": [
    {
     "output_type": "display_data",
     "data": {
      "text/plain": [
       "<Figure size 432x288 with 1 Axes>"
      ],
      "image/png": "[encoded data removed]"
     },
     "metadata": {}
    }
   ],
   "metadata": {}
  },
  {
   "cell_type": "markdown",
   "source": [
    "# Baseline With OSG"
   ],
   "metadata": {}
  },
  {
   "cell_type": "markdown",
   "source": [
    "## random"
   ],
   "metadata": {}
  },
  {
   "cell_type": "code",
   "execution_count": 850,
   "source": [
    "work_dir = 'baseline-osg/random'\n",
    "start_time, end_time = process_complete_leases(work_dir)\n",
    "osg_jobs = process_osg_jobs(work_dir, end_time)\n",
    "utl_rate = process_utilization_rate(work_dir, end_time)\n",
    "node_term = process_node_terminations(work_dir, end_time)\n",
    "show_metrics(osg_jobs, utl_rate, node_term)"
   ],
   "outputs": [
    {
     "output_type": "stream",
     "name": "stdout",
     "text": [
      "total_complete_jobs: 60044 \n",
      "wasted_core_hours: 20826.16\n",
      "total_utilization_rate: 99.30\n",
      "in_advance_node_terms: 0\n",
      "unused_advance_node_terms: 0\n",
      "immediate_node_terms: 2986\n"
     ]
    }
   ],
   "metadata": {}
  },
  {
   "cell_type": "markdown",
   "source": [
    "## lease_core"
   ],
   "metadata": {}
  },
  {
   "cell_type": "code",
   "execution_count": 851,
   "source": [
    "work_dir = 'baseline-osg/least_core'\n",
    "start_time, end_time = process_complete_leases(work_dir)\n",
    "osg_jobs = process_osg_jobs(work_dir, end_time)\n",
    "utl_rate = process_utilization_rate(work_dir, end_time)\n",
    "node_term = process_node_terminations(work_dir, end_time)\n",
    "show_metrics(osg_jobs, utl_rate, node_term)"
   ],
   "outputs": [
    {
     "output_type": "stream",
     "name": "stdout",
     "text": [
      "total_complete_jobs: 45744 \n",
      "wasted_core_hours: 20072.80\n",
      "total_utilization_rate: 99.30\n",
      "in_advance_node_terms: 0\n",
      "unused_advance_node_terms: 0\n",
      "immediate_node_terms: 3325\n"
     ]
    }
   ],
   "metadata": {}
  },
  {
   "cell_type": "markdown",
   "source": [
    "## least_resubmit"
   ],
   "metadata": {}
  },
  {
   "cell_type": "code",
   "execution_count": 852,
   "source": [
    "work_dir = 'baseline-osg/least_resubmit'\n",
    "start_time, end_time = process_complete_leases(work_dir)\n",
    "osg_jobs = process_osg_jobs(work_dir, end_time)\n",
    "utl_rate = process_utilization_rate(work_dir, end_time)\n",
    "node_term = process_node_terminations(work_dir, end_time)\n",
    "show_metrics(osg_jobs, utl_rate, node_term)"
   ],
   "outputs": [
    {
     "output_type": "stream",
     "name": "stdout",
     "text": [
      "total_complete_jobs: 58559 \n",
      "wasted_core_hours: 17461.28\n",
      "total_utilization_rate: 99.30\n",
      "in_advance_node_terms: 0\n",
      "unused_advance_node_terms: 0\n",
      "immediate_node_terms: 2999\n"
     ]
    }
   ],
   "metadata": {}
  },
  {
   "cell_type": "markdown",
   "source": [
    "## recent_deployed"
   ],
   "metadata": {}
  },
  {
   "cell_type": "code",
   "execution_count": 853,
   "source": [
    "work_dir = 'baseline-osg/recent_deployed'\n",
    "start_time, end_time = process_complete_leases(work_dir)\n",
    "osg_jobs = process_osg_jobs(work_dir, end_time)\n",
    "utl_rate = process_utilization_rate(work_dir, end_time)\n",
    "node_term = process_node_terminations(work_dir, end_time)\n",
    "show_metrics(osg_jobs, utl_rate, node_term)"
   ],
   "outputs": [
    {
     "output_type": "stream",
     "name": "stdout",
     "text": [
      "total_complete_jobs: 57383 \n",
      "wasted_core_hours: 14985.72\n",
      "total_utilization_rate: 99.30\n",
      "in_advance_node_terms: 0\n",
      "unused_advance_node_terms: 0\n",
      "immediate_node_terms: 3096\n"
     ]
    }
   ],
   "metadata": {}
  },
  {
   "cell_type": "markdown",
   "source": [
    "# Rolling Average"
   ],
   "metadata": {}
  },
  {
   "cell_type": "markdown",
   "source": [
    "## Random"
   ],
   "metadata": {}
  },
  {
   "cell_type": "code",
   "execution_count": 854,
   "source": [
    "work_dir = 'rolling_mean/random'\n",
    "start_time, end_time = process_complete_leases(work_dir)\n",
    "osg_jobs = process_osg_jobs(work_dir, end_time)\n",
    "utl_rate = process_utilization_rate(work_dir, end_time)\n",
    "node_term = process_node_terminations(work_dir, end_time)\n",
    "show_metrics(osg_jobs, utl_rate, node_term)"
   ],
   "outputs": [
    {
     "output_type": "stream",
     "name": "stdout",
     "text": [
      "total_complete_jobs: 54984 \n",
      "wasted_core_hours: 23299.95\n",
      "total_utilization_rate: 98.27\n",
      "in_advance_node_terms: 1365\n",
      "unused_advance_node_terms: 733\n",
      "immediate_node_terms: 1374\n"
     ]
    }
   ],
   "metadata": {}
  },
  {
   "cell_type": "markdown",
   "source": [
    "## least_core"
   ],
   "metadata": {}
  },
  {
   "cell_type": "code",
   "execution_count": 855,
   "source": [
    "work_dir = 'rolling_mean/least_core'\n",
    "start_time, end_time = process_complete_leases(work_dir)\n",
    "osg_jobs = process_osg_jobs(work_dir, end_time)\n",
    "utl_rate = process_utilization_rate(work_dir, end_time)\n",
    "node_term = process_node_terminations(work_dir, end_time)\n",
    "show_metrics(osg_jobs, utl_rate, node_term)"
   ],
   "outputs": [
    {
     "output_type": "stream",
     "name": "stdout",
     "text": [
      "total_complete_jobs: 42933 \n",
      "wasted_core_hours: 20181.46\n",
      "total_utilization_rate: 98.60\n",
      "in_advance_node_terms: 1618\n",
      "unused_advance_node_terms: 845\n",
      "immediate_node_terms: 1494\n"
     ]
    }
   ],
   "metadata": {}
  },
  {
   "cell_type": "markdown",
   "source": [
    "## least_resubmit"
   ],
   "metadata": {}
  },
  {
   "cell_type": "code",
   "execution_count": 856,
   "source": [
    "work_dir = 'rolling_mean/least_resubmit'\n",
    "start_time, end_time = process_complete_leases(work_dir)\n",
    "osg_jobs = process_osg_jobs(work_dir, end_time)\n",
    "utl_rate = process_utilization_rate(work_dir, end_time)\n",
    "node_term = process_node_terminations(work_dir, end_time)\n",
    "show_metrics(osg_jobs, utl_rate, node_term)"
   ],
   "outputs": [
    {
     "output_type": "stream",
     "name": "stdout",
     "text": [
      "total_complete_jobs: 53753 \n",
      "wasted_core_hours: 19846.91\n",
      "total_utilization_rate: 98.60\n",
      "in_advance_node_terms: 1374\n",
      "unused_advance_node_terms: 735\n",
      "immediate_node_terms: 1373\n"
     ]
    }
   ],
   "metadata": {}
  },
  {
   "cell_type": "markdown",
   "source": [
    "## recent_deployed"
   ],
   "metadata": {}
  },
  {
   "cell_type": "code",
   "execution_count": 857,
   "source": [
    "work_dir = 'rolling_mean/recent_deployed'\n",
    "start_time, end_time = process_complete_leases(work_dir)\n",
    "osg_jobs = process_osg_jobs(work_dir, end_time)\n",
    "utl_rate = process_utilization_rate(work_dir, end_time)\n",
    "node_term = process_node_terminations(work_dir, end_time)\n",
    "show_metrics(osg_jobs, utl_rate, node_term)"
   ],
   "outputs": [
    {
     "output_type": "stream",
     "name": "stdout",
     "text": [
      "total_complete_jobs: 53560 \n",
      "wasted_core_hours: 13696.71\n",
      "total_utilization_rate: 98.57\n",
      "in_advance_node_terms: 1437\n",
      "unused_advance_node_terms: 751\n",
      "immediate_node_terms: 1445\n"
     ]
    }
   ],
   "metadata": {}
  },
  {
   "cell_type": "markdown",
   "source": [
    "# Rolling Median"
   ],
   "metadata": {}
  },
  {
   "cell_type": "markdown",
   "source": [
    "## random"
   ],
   "metadata": {}
  },
  {
   "cell_type": "code",
   "execution_count": 858,
   "source": [
    "work_dir = 'rolling_median/random'\n",
    "start_time, end_time = process_complete_leases(work_dir)\n",
    "osg_jobs = process_osg_jobs(work_dir, end_time)\n",
    "utl_rate = process_utilization_rate(work_dir, end_time)\n",
    "node_term = process_node_terminations(work_dir, end_time)\n",
    "show_metrics(osg_jobs, utl_rate, node_term)"
   ],
   "outputs": [
    {
     "output_type": "stream",
     "name": "stdout",
     "text": [
      "total_complete_jobs: 56624 \n",
      "wasted_core_hours: 22059.50\n",
      "total_utilization_rate: 98.90\n",
      "in_advance_node_terms: 1098\n",
      "unused_advance_node_terms: 175\n",
      "immediate_node_terms: 1769\n"
     ]
    }
   ],
   "metadata": {}
  },
  {
   "cell_type": "markdown",
   "source": [
    "## least_core"
   ],
   "metadata": {}
  },
  {
   "cell_type": "code",
   "execution_count": 859,
   "source": [
    "work_dir = 'rolling_median/least_core'\n",
    "start_time, end_time = process_complete_leases(work_dir)\n",
    "osg_jobs = process_osg_jobs(work_dir, end_time)\n",
    "utl_rate = process_utilization_rate(work_dir, end_time)\n",
    "node_term = process_node_terminations(work_dir, end_time)\n",
    "show_metrics(osg_jobs, utl_rate, node_term)"
   ],
   "outputs": [
    {
     "output_type": "stream",
     "name": "stdout",
     "text": [
      "total_complete_jobs: 42698 \n",
      "wasted_core_hours: 21507.44\n",
      "total_utilization_rate: 99.30\n",
      "in_advance_node_terms: 1321\n",
      "unused_advance_node_terms: 202\n",
      "immediate_node_terms: 1987\n"
     ]
    }
   ],
   "metadata": {}
  },
  {
   "cell_type": "markdown",
   "source": [
    "## lease_resubmit"
   ],
   "metadata": {}
  },
  {
   "cell_type": "code",
   "execution_count": 860,
   "source": [
    "work_dir = 'rolling_median/least_resubmit'\n",
    "start_time, end_time = process_complete_leases(work_dir)\n",
    "osg_jobs = process_osg_jobs(work_dir, end_time)\n",
    "utl_rate = process_utilization_rate(work_dir, end_time)\n",
    "node_term = process_node_terminations(work_dir, end_time)\n",
    "show_metrics(osg_jobs, utl_rate, node_term)"
   ],
   "outputs": [
    {
     "output_type": "stream",
     "name": "stdout",
     "text": [
      "total_complete_jobs: 53876 \n",
      "wasted_core_hours: 19148.23\n",
      "total_utilization_rate: 98.90\n",
      "in_advance_node_terms: 1145\n",
      "unused_advance_node_terms: 182\n",
      "immediate_node_terms: 1840\n"
     ]
    }
   ],
   "metadata": {}
  },
  {
   "cell_type": "markdown",
   "source": [
    "## recent_deployed"
   ],
   "metadata": {}
  },
  {
   "cell_type": "code",
   "execution_count": 861,
   "source": [
    "work_dir = 'rolling_median/recent_deployed'\n",
    "start_time, end_time = process_complete_leases(work_dir)\n",
    "osg_jobs = process_osg_jobs(work_dir, end_time)\n",
    "utl_rate = process_utilization_rate(work_dir, end_time)\n",
    "node_term = process_node_terminations(work_dir, end_time)\n",
    "show_metrics(osg_jobs, utl_rate, node_term)"
   ],
   "outputs": [],
   "metadata": {}
  },
  {
   "cell_type": "markdown",
   "source": [
    "# LSTM"
   ],
   "metadata": {}
  },
  {
   "cell_type": "markdown",
   "source": [
    "## random"
   ],
   "metadata": {}
  },
  {
   "cell_type": "code",
   "execution_count": null,
   "source": [
    "work_dir = 'lstm/random'\n",
    "start_time, end_time = process_complete_leases(work_dir)\n",
    "osg_jobs = process_osg_jobs(work_dir, end_time)\n",
    "utl_rate = process_utilization_rate(work_dir, end_time)\n",
    "node_term = process_node_terminations(work_dir, end_time)\n",
    "show_metrics(osg_jobs, utl_rate, node_term)"
   ],
   "outputs": [
    {
     "output_type": "stream",
     "name": "stdout",
     "text": [
      "total_complete_jobs: 55692 \n",
      "wasted_core_hours: 24917.75\n",
      "total_utilization_rate: 97.80\n",
      "in_advance_node_terms: 1205\n",
      "unused_advance_node_terms: 1028\n",
      "immediate_node_terms: 1467\n"
     ]
    }
   ],
   "metadata": {}
  },
  {
   "cell_type": "markdown",
   "source": [
    "## least_core"
   ],
   "metadata": {}
  },
  {
   "cell_type": "code",
   "execution_count": null,
   "source": [
    "work_dir = 'lstm/least_core'\n",
    "start_time, end_time = process_complete_leases(work_dir)\n",
    "osg_jobs = process_osg_jobs(work_dir, end_time)\n",
    "utl_rate = process_utilization_rate(work_dir, end_time)\n",
    "node_term = process_node_terminations(work_dir, end_time)\n",
    "show_metrics(osg_jobs, utl_rate, node_term)"
   ],
   "outputs": [
    {
     "output_type": "stream",
     "name": "stdout",
     "text": [
      "total_complete_jobs: 43532 \n",
      "wasted_core_hours: 24600.76\n",
      "total_utilization_rate: 98.60\n",
      "in_advance_node_terms: 1432\n",
      "unused_advance_node_terms: 1131\n",
      "immediate_node_terms: 1617\n"
     ]
    }
   ],
   "metadata": {}
  },
  {
   "cell_type": "markdown",
   "source": [
    "## least_resubmit"
   ],
   "metadata": {}
  },
  {
   "cell_type": "code",
   "execution_count": null,
   "source": [
    "work_dir = 'lstm/least_resubmit'\n",
    "start_time, end_time = process_complete_leases(work_dir)\n",
    "osg_jobs = process_osg_jobs(work_dir, end_time)\n",
    "utl_rate = process_utilization_rate(work_dir, end_time)\n",
    "node_term = process_node_terminations(work_dir, end_time)\n",
    "show_metrics(osg_jobs, utl_rate, node_term)"
   ],
   "outputs": [
    {
     "output_type": "stream",
     "name": "stdout",
     "text": [
      "total_complete_jobs: 53240 \n",
      "wasted_core_hours: 23062.24\n",
      "total_utilization_rate: 98.20\n",
      "in_advance_node_terms: 1253\n",
      "unused_advance_node_terms: 992\n",
      "immediate_node_terms: 1506\n"
     ]
    }
   ],
   "metadata": {}
  },
  {
   "cell_type": "code",
   "execution_count": null,
   "source": [
    "work_dir = 'lstm/recent_deployed'\n",
    "start_time, end_time = process_complete_leases(work_dir)\n",
    "osg_jobs = process_osg_jobs(work_dir, end_time)\n",
    "utl_rate = process_utilization_rate(work_dir, end_time)\n",
    "node_term = process_node_terminations(work_dir, end_time)\n",
    "show_metrics(osg_jobs, utl_rate, node_term)"
   ],
   "outputs": [
    {
     "output_type": "stream",
     "name": "stdout",
     "text": [
      "total_complete_jobs: 53652 \n",
      "wasted_core_hours: 17597.10\n",
      "total_utilization_rate: 98.20\n",
      "in_advance_node_terms: 1277\n",
      "unused_advance_node_terms: 1057\n",
      "immediate_node_terms: 1524\n"
     ]
    }
   ],
   "metadata": {}
  }
 ],
 "metadata": {
  "orig_nbformat": 4,
  "language_info": {
   "name": "python",
   "version": "3.7.9",
   "mimetype": "text/x-python",
   "codemirror_mode": {
    "name": "ipython",
    "version": 3
   },
   "pygments_lexer": "ipython3",
   "nbconvert_exporter": "python",
   "file_extension": ".py"
  },
  "kernelspec": {
   "name": "python3",
   "display_name": "Python 3.7.9 64-bit"
  },
  "interpreter": {
   "hash": "aee8b7b246df8f9039afb4144a1f6fd8d2ca17a180786b69acc140d282b71a49"
  }
 },
 "nbformat": 4,
 "nbformat_minor": 2
}